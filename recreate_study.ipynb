{
 "cells": [
  {
   "cell_type": "code",
   "execution_count": 1,
   "metadata": {},
   "outputs": [],
   "source": [
    "import importlib, baysian_tuning, pytorch_simple\n",
    "importlib.reload(pytorch_simple)\n",
    "importlib.reload(baysian_tuning)\n",
    "\n",
    "import pandas as pd\n",
    "import numpy as np\n",
    "\n",
    "import importlib\n",
    "import pytorch_simple\n",
    "importlib.reload(pytorch_simple)\n",
    "\n",
    "from pytorch_simple import PytorchRegressor\n",
    "\n",
    "import matplotlib.pyplot as plt\n",
    "\n",
    "from xgboost import XGBClassifier, XGBRegressor\n",
    "\n",
    "\n",
    "from sklearn.metrics import mean_squared_error, accuracy_score, f1_score\n",
    "\n",
    "\n",
    "from baysian_tuning import Objective\n",
    "import optuna"
   ]
  },
  {
   "cell_type": "code",
   "execution_count": 2,
   "metadata": {},
   "outputs": [],
   "source": [
    "FACTORS_2 = ['DELTA', 'SPY_LOG_RET']\n",
    "FACTORS_3 = ['DELTA', 'DTE', 'SPY_LOG_RET']\n",
    "FACTORS_4 = ['DELTA', 'DTE', 'SPY_LOG_RET', 'VIX']\n",
    "\n",
    "TARGET = 'IV_DELTA'"
   ]
  },
  {
   "cell_type": "code",
   "execution_count": 3,
   "metadata": {},
   "outputs": [],
   "source": [
    "def plot_importance(model, features):\n",
    "    \n",
    "    model.importance_type = 'total_gain'\n",
    "\n",
    "    # Sort features and importances\n",
    "    sorted_idx = np.argsort(model.feature_importances_)\n",
    "    sorted_factors = np.array(features)[sorted_idx]\n",
    "    sorted_importances = np.array(model.feature_importances_)[sorted_idx]\n",
    "\n",
    "    # Plot the feature importances\n",
    "    plt.figure(figsize=(12, 8))\n",
    "    bars = plt.barh(sorted_factors, sorted_importances, color='skyblue')\n",
    "\n",
    "    # Add values to the bars\n",
    "    for bar in bars:\n",
    "        plt.text(bar.get_width() + 0.01, bar.get_y() + bar.get_height() / 2,\n",
    "                f'{bar.get_width():.4f}', va='center', ha='left', fontsize=12)\n",
    "\n",
    "    # Customize the plot\n",
    "    plt.xlabel('Absolute Gain', fontsize=14)\n",
    "    plt.ylabel('Features', fontsize=14)\n",
    "    plt.title('Absolute Gain Feature Importance', fontsize=16)\n",
    "    plt.grid(axis='x', linestyle='--', alpha=0.7)\n",
    "\n",
    "    # Invert y-axis to have the most important feature at the top\n",
    "    plt.gca().invert_yaxis()\n",
    "\n",
    "    # Adjust layout for better appearance\n",
    "    plt.tight_layout()\n",
    "\n",
    "    # Show plot\n",
    "    plt.show()\n",
    "    \n",
    "def r_square(df: pd.DataFrame, pred_col):\n",
    "    return 1 - mean_squared_error(df[TARGET], df[pred_col]) / mean_squared_error(df[TARGET], np.full(len(df), df[TARGET].mean()))\n",
    "\n",
    "\n",
    "\n",
    "def calculate_gain(df, model_a, model_b):\n",
    "    \n",
    "    return 1 - mean_squared_error(df[TARGET], df[model_a]) / mean_squared_error(df[TARGET], df[model_b])\n",
    "    "
   ]
  },
  {
   "cell_type": "markdown",
   "metadata": {},
   "source": [
    "### 3. Data\n",
    "We used S&P 500 call options data from OptionMetrics between January 2010 and December 2017. The data for each option on each day includes the strike price, time to maturity, index level, and implied volatility, as well as hedge parameters such as delta, gamma, vega, and theta derived from the practitioner Black-Scholes model.\n",
    "\n",
    "\n",
    "The data was filtered in a number of ways. We only retained options where the information provided was complete. Options with remaining lives less than 14 days were removed from the data set. Options for which the practitioner Black-Scholes delta was less than 0.05 or greater than 0.95 were removed from the data set. The data was then sorted to produce observations for the same option on two successive trading days. This resulted in about 2.07 million observations on daily volatility changes for 53,653 call options.\n",
    "\n",
    "\n",
    "The three features we used in the first stage of this research are the S&P 500 daily change, time-to-maturity, and the practitioner Black-Scholes delta. There is one target, the implied volatility change. In the second stage we added the VIX index as a feature. A summary of statistical properties of the features and target variables is provided in Table 1.\n",
    "\n",
    "To apply the neural network technique, we randomly divided the data into a training set, a validation set, and test set, with a 7:2:1 ratio. We used the training set and the validation set to train and fine-tune the neural network model, and then evaluated the model performance with the test set. All results presented are those for the test set.\n",
    "\n",
    "\n",
    "### 4. Model Selection Criteria\n",
    "Key elements of a neural network model are the activation function, the number of layers and the number of nodes per layer. The activation functions fi in equation (1) for i ≤ n are designed\n",
    "10\n",
    "to distinguish between positive and negative signals. We considered four different activation\n",
    "functions that have been suggested in the literature: the sigmoid, the rectified linear unit (relu),\n",
    "the leaky relu, and the exponential linear unit. The functional forms are shown in Table 2.\n",
    "They all have attractive properties for backpropagation algorithms. For i = n+1 the activation\n",
    "function is f(x) = x so that a linear function relates values at the nodes on the final hidden\n",
    "layer to the target. (This is usual practice when a continuous variable is being estimated.) We\n",
    "present results for a model with three hidden layers and 80 nodes per layer. We found models\n",
    "with sigmoid activation functions generally perform better (lower mean squared errors) and\n",
    "we will therefore only present results from using the sigmoid activation function.\n",
    "\n",
    "\n",
    "To avoid overfitting, we experimented with a number of different early stopping rules. A\n",
    "common approach involves stopping when the mean square error for the validation set starts\n",
    "to trend up. For our data this happened only after a very large number of epochs if at all, a\n",
    "result which may be indicative of local overfitting.\n",
    "\n",
    "In the end, we decided to use the\n",
    "smoothness of the predicted change in the volatility surface as our criterion. We manually\n",
    "inspected a three-dimensional plot of the volatility surface change as the number of epochs\n",
    "was increased and stopped when this was no longer smooth. This led to earlier stopping than\n",
    "that would be indicated by other rules. In both of the three-factor models and four-factor\n",
    "model we stopped after 4,000 epochs. The choice of the stopping rule did not affect the\n",
    "general shape of the volatility surface movements, but it did affect the smoothness of the\n",
    "results."
   ]
  },
  {
   "cell_type": "code",
   "execution_count": 4,
   "metadata": {},
   "outputs": [],
   "source": [
    "data = pd.read_parquet('datasets/option_dataset.parquet.gzip')\n",
    "data = data.dropna(subset=['SPY_LOG_RET', 'DELTA', 'DTE'])\n",
    "to_drop = pd.read_pickle('to_drop')\n",
    "data = data[~data.index.isin(to_drop)]\n",
    "data = data[data['DELTA'] > 0]"
   ]
  },
  {
   "cell_type": "code",
   "execution_count": 5,
   "metadata": {},
   "outputs": [
    {
     "data": {
      "text/plain": [
       "DTE\n",
       "21.00     5814\n",
       "28.00     5377\n",
       "22.00     5307\n",
       "23.00     5107\n",
       "24.00     5060\n",
       "          ... \n",
       "3.04         1\n",
       "523.04       1\n",
       "789.04       1\n",
       "747.00       1\n",
       "809.00       1\n",
       "Name: count, Length: 2069, dtype: int64"
      ]
     },
     "execution_count": 5,
     "metadata": {},
     "output_type": "execute_result"
    }
   ],
   "source": [
    "data['DTE'].value_counts()"
   ]
  },
  {
   "cell_type": "markdown",
   "metadata": {},
   "source": [
    "# Loading Data"
   ]
  },
  {
   "cell_type": "code",
   "execution_count": 6,
   "metadata": {},
   "outputs": [
    {
     "name": "stdout",
     "output_type": "stream",
     "text": [
      "<class 'pandas.core.frame.DataFrame'>\n",
      "Index: 427799 entries, 0 to 438015\n",
      "Data columns (total 16 columns):\n",
      " #   Column           Non-Null Count   Dtype   \n",
      "---  ------           --------------   -----   \n",
      " 0   QUOTE_DATE       427799 non-null  object  \n",
      " 1   option_id        427799 non-null  category\n",
      " 2   EXPIRE_UNIX      427799 non-null  int64   \n",
      " 3   STRIKE           427799 non-null  float64 \n",
      " 4   IV               427799 non-null  float64 \n",
      " 5   DELTA            427799 non-null  float64 \n",
      " 6   DTE              427799 non-null  float64 \n",
      " 7   MID              427799 non-null  float64 \n",
      " 8   UNDERLYING_LAST  427799 non-null  float64 \n",
      " 9   BidAskSpread     427799 non-null  float64 \n",
      " 10  VOLUME           427799 non-null  float64 \n",
      " 11  IV_DELTA         427799 non-null  float64 \n",
      " 12  IV_LOG_RET       427799 non-null  float64 \n",
      " 13  VIX              427799 non-null  float64 \n",
      " 14  1Y_US            424462 non-null  float64 \n",
      " 15  SPY_LOG_RET      427799 non-null  float64 \n",
      "dtypes: category(1), float64(13), int64(1), object(1)\n",
      "memory usage: 59.1+ MB\n"
     ]
    }
   ],
   "source": [
    "data.info()"
   ]
  },
  {
   "cell_type": "code",
   "execution_count": 7,
   "metadata": {},
   "outputs": [],
   "source": [
    "cols = ['option_id', 'STRIKE', 'IV', 'DELTA', 'DTE', 'SPY_LOG_RET', 'VIX', 'IV_DELTA']"
   ]
  },
  {
   "cell_type": "code",
   "execution_count": 8,
   "metadata": {},
   "outputs": [],
   "source": [
    "data['EXPIRE_DATE'] = pd.to_datetime(data['EXPIRE_UNIX'], unit='s').dt.date"
   ]
  },
  {
   "cell_type": "code",
   "execution_count": 9,
   "metadata": {},
   "outputs": [],
   "source": [
    "cols = ['EXPIRE_DATE', 'STRIKE', 'IV', 'DELTA', 'DTE', 'SPY_LOG_RET', 'VIX', 'IV_DELTA']"
   ]
  },
  {
   "cell_type": "code",
   "execution_count": 15,
   "metadata": {},
   "outputs": [],
   "source": [
    "data.loc[data['QUOTE_DATE'] == '2018-02-05', :].sort_values(['EXPIRE_DATE', 'STRIKE'])[cols].head(10).to_latex('latex.txt')"
   ]
  },
  {
   "cell_type": "code",
   "execution_count": 11,
   "metadata": {},
   "outputs": [],
   "source": [
    "# with open('latex.txt', 'w') as f:\n",
    "#     f.write(data.loc[data['QUOTE_DATE'] == '2018-02-05', :].sort_values(['EXPIRE_DATE', 'STRIKE'])[cols].head(10).to_latex(index=False, caption='10 Saples for day 2018-02-05', float_format=\"%.4f\"))"
   ]
  },
  {
   "cell_type": "markdown",
   "metadata": {},
   "source": [
    "# Inspect Dataset"
   ]
  },
  {
   "cell_type": "code",
   "execution_count": 12,
   "metadata": {},
   "outputs": [
    {
     "data": {
      "text/html": [
       "<div>\n",
       "<style scoped>\n",
       "    .dataframe tbody tr th:only-of-type {\n",
       "        vertical-align: middle;\n",
       "    }\n",
       "\n",
       "    .dataframe tbody tr th {\n",
       "        vertical-align: top;\n",
       "    }\n",
       "\n",
       "    .dataframe thead th {\n",
       "        text-align: right;\n",
       "    }\n",
       "</style>\n",
       "<table border=\"1\" class=\"dataframe\">\n",
       "  <thead>\n",
       "    <tr style=\"text-align: right;\">\n",
       "      <th></th>\n",
       "      <th>QUOTE_DATE</th>\n",
       "      <th>option_id</th>\n",
       "      <th>EXPIRE_UNIX</th>\n",
       "      <th>STRIKE</th>\n",
       "      <th>IV</th>\n",
       "      <th>DELTA</th>\n",
       "      <th>DTE</th>\n",
       "      <th>MID</th>\n",
       "      <th>UNDERLYING_LAST</th>\n",
       "      <th>BidAskSpread</th>\n",
       "      <th>VOLUME</th>\n",
       "      <th>IV_DELTA</th>\n",
       "      <th>IV_LOG_RET</th>\n",
       "      <th>VIX</th>\n",
       "      <th>1Y_US</th>\n",
       "      <th>SPY_LOG_RET</th>\n",
       "      <th>EXPIRE_DATE</th>\n",
       "    </tr>\n",
       "  </thead>\n",
       "  <tbody>\n",
       "    <tr>\n",
       "      <th>0</th>\n",
       "      <td>2010-01-04</td>\n",
       "      <td>C_20100115_109.0</td>\n",
       "      <td>1263589200</td>\n",
       "      <td>109.0</td>\n",
       "      <td>0.21782</td>\n",
       "      <td>0.83985</td>\n",
       "      <td>11.0</td>\n",
       "      <td>4.630</td>\n",
       "      <td>113.29</td>\n",
       "      <td>0.008639</td>\n",
       "      <td>189.0</td>\n",
       "      <td>-0.02621</td>\n",
       "      <td>-0.128207</td>\n",
       "      <td>20.04</td>\n",
       "      <td>0.45</td>\n",
       "      <td>0.016818</td>\n",
       "      <td>2010-01-15</td>\n",
       "    </tr>\n",
       "    <tr>\n",
       "      <th>1</th>\n",
       "      <td>2010-01-22</td>\n",
       "      <td>C_20100219_100.0</td>\n",
       "      <td>1266613200</td>\n",
       "      <td>100.0</td>\n",
       "      <td>0.32457</td>\n",
       "      <td>0.84393</td>\n",
       "      <td>28.0</td>\n",
       "      <td>10.080</td>\n",
       "      <td>109.22</td>\n",
       "      <td>0.013889</td>\n",
       "      <td>310.0</td>\n",
       "      <td>0.00302</td>\n",
       "      <td>0.009262</td>\n",
       "      <td>27.31</td>\n",
       "      <td>0.30</td>\n",
       "      <td>-0.022544</td>\n",
       "      <td>2010-02-19</td>\n",
       "    </tr>\n",
       "    <tr>\n",
       "      <th>2</th>\n",
       "      <td>2010-01-22</td>\n",
       "      <td>C_20100219_101.0</td>\n",
       "      <td>1266613200</td>\n",
       "      <td>101.0</td>\n",
       "      <td>0.31677</td>\n",
       "      <td>0.82168</td>\n",
       "      <td>28.0</td>\n",
       "      <td>9.195</td>\n",
       "      <td>109.22</td>\n",
       "      <td>0.009788</td>\n",
       "      <td>153.0</td>\n",
       "      <td>0.00070</td>\n",
       "      <td>0.002207</td>\n",
       "      <td>27.31</td>\n",
       "      <td>0.30</td>\n",
       "      <td>-0.022544</td>\n",
       "      <td>2010-02-19</td>\n",
       "    </tr>\n",
       "    <tr>\n",
       "      <th>3</th>\n",
       "      <td>2010-01-25</td>\n",
       "      <td>C_20100219_101.0</td>\n",
       "      <td>1266613200</td>\n",
       "      <td>101.0</td>\n",
       "      <td>0.31747</td>\n",
       "      <td>0.84464</td>\n",
       "      <td>25.0</td>\n",
       "      <td>9.480</td>\n",
       "      <td>109.78</td>\n",
       "      <td>0.016878</td>\n",
       "      <td>78.0</td>\n",
       "      <td>-0.01361</td>\n",
       "      <td>-0.043816</td>\n",
       "      <td>25.41</td>\n",
       "      <td>0.30</td>\n",
       "      <td>0.005115</td>\n",
       "      <td>2010-02-19</td>\n",
       "    </tr>\n",
       "    <tr>\n",
       "      <th>5</th>\n",
       "      <td>2010-01-22</td>\n",
       "      <td>C_20100219_102.0</td>\n",
       "      <td>1266613200</td>\n",
       "      <td>102.0</td>\n",
       "      <td>0.30291</td>\n",
       "      <td>0.80021</td>\n",
       "      <td>28.0</td>\n",
       "      <td>8.300</td>\n",
       "      <td>109.22</td>\n",
       "      <td>0.012048</td>\n",
       "      <td>137.0</td>\n",
       "      <td>0.00230</td>\n",
       "      <td>0.007564</td>\n",
       "      <td>27.31</td>\n",
       "      <td>0.30</td>\n",
       "      <td>-0.022544</td>\n",
       "      <td>2010-02-19</td>\n",
       "    </tr>\n",
       "    <tr>\n",
       "      <th>...</th>\n",
       "      <td>...</td>\n",
       "      <td>...</td>\n",
       "      <td>...</td>\n",
       "      <td>...</td>\n",
       "      <td>...</td>\n",
       "      <td>...</td>\n",
       "      <td>...</td>\n",
       "      <td>...</td>\n",
       "      <td>...</td>\n",
       "      <td>...</td>\n",
       "      <td>...</td>\n",
       "      <td>...</td>\n",
       "      <td>...</td>\n",
       "      <td>...</td>\n",
       "      <td>...</td>\n",
       "      <td>...</td>\n",
       "      <td>...</td>\n",
       "    </tr>\n",
       "    <tr>\n",
       "      <th>438011</th>\n",
       "      <td>2019-12-26</td>\n",
       "      <td>C_20221216_270.0</td>\n",
       "      <td>1671224400</td>\n",
       "      <td>270.0</td>\n",
       "      <td>0.22702</td>\n",
       "      <td>0.71808</td>\n",
       "      <td>1086.0</td>\n",
       "      <td>70.135</td>\n",
       "      <td>322.94</td>\n",
       "      <td>0.060883</td>\n",
       "      <td>71.0</td>\n",
       "      <td>0.00185</td>\n",
       "      <td>0.008116</td>\n",
       "      <td>12.65</td>\n",
       "      <td>1.53</td>\n",
       "      <td>0.005309</td>\n",
       "      <td>2022-12-16</td>\n",
       "    </tr>\n",
       "    <tr>\n",
       "      <th>438012</th>\n",
       "      <td>2019-12-27</td>\n",
       "      <td>C_20221216_300.0</td>\n",
       "      <td>1671224400</td>\n",
       "      <td>300.0</td>\n",
       "      <td>0.20876</td>\n",
       "      <td>0.60934</td>\n",
       "      <td>1085.0</td>\n",
       "      <td>49.895</td>\n",
       "      <td>322.85</td>\n",
       "      <td>0.071550</td>\n",
       "      <td>30.0</td>\n",
       "      <td>0.00007</td>\n",
       "      <td>0.000335</td>\n",
       "      <td>13.43</td>\n",
       "      <td>1.51</td>\n",
       "      <td>-0.000248</td>\n",
       "      <td>2022-12-16</td>\n",
       "    </tr>\n",
       "    <tr>\n",
       "      <th>438013</th>\n",
       "      <td>2019-12-23</td>\n",
       "      <td>C_20221216_320.0</td>\n",
       "      <td>1671224400</td>\n",
       "      <td>320.0</td>\n",
       "      <td>0.19685</td>\n",
       "      <td>0.52760</td>\n",
       "      <td>1089.0</td>\n",
       "      <td>38.130</td>\n",
       "      <td>321.27</td>\n",
       "      <td>0.032520</td>\n",
       "      <td>22.0</td>\n",
       "      <td>-0.00158</td>\n",
       "      <td>-0.008059</td>\n",
       "      <td>12.61</td>\n",
       "      <td>1.53</td>\n",
       "      <td>0.001527</td>\n",
       "      <td>2022-12-16</td>\n",
       "    </tr>\n",
       "    <tr>\n",
       "      <th>438014</th>\n",
       "      <td>2019-12-27</td>\n",
       "      <td>C_20221216_325.0</td>\n",
       "      <td>1671224400</td>\n",
       "      <td>325.0</td>\n",
       "      <td>0.19248</td>\n",
       "      <td>0.50798</td>\n",
       "      <td>1085.0</td>\n",
       "      <td>35.405</td>\n",
       "      <td>322.85</td>\n",
       "      <td>0.079367</td>\n",
       "      <td>150.0</td>\n",
       "      <td>0.00126</td>\n",
       "      <td>0.006525</td>\n",
       "      <td>13.43</td>\n",
       "      <td>1.51</td>\n",
       "      <td>-0.000248</td>\n",
       "      <td>2022-12-16</td>\n",
       "    </tr>\n",
       "    <tr>\n",
       "      <th>438015</th>\n",
       "      <td>2019-12-30</td>\n",
       "      <td>C_20221216_325.0</td>\n",
       "      <td>1671224400</td>\n",
       "      <td>325.0</td>\n",
       "      <td>0.19374</td>\n",
       "      <td>0.50241</td>\n",
       "      <td>1082.0</td>\n",
       "      <td>34.760</td>\n",
       "      <td>321.13</td>\n",
       "      <td>0.075374</td>\n",
       "      <td>197.0</td>\n",
       "      <td>0.00243</td>\n",
       "      <td>0.012465</td>\n",
       "      <td>14.82</td>\n",
       "      <td>1.57</td>\n",
       "      <td>-0.005528</td>\n",
       "      <td>2022-12-16</td>\n",
       "    </tr>\n",
       "  </tbody>\n",
       "</table>\n",
       "<p>427799 rows × 17 columns</p>\n",
       "</div>"
      ],
      "text/plain": [
       "        QUOTE_DATE         option_id  EXPIRE_UNIX  STRIKE       IV    DELTA  \\\n",
       "0       2010-01-04  C_20100115_109.0   1263589200   109.0  0.21782  0.83985   \n",
       "1       2010-01-22  C_20100219_100.0   1266613200   100.0  0.32457  0.84393   \n",
       "2       2010-01-22  C_20100219_101.0   1266613200   101.0  0.31677  0.82168   \n",
       "3       2010-01-25  C_20100219_101.0   1266613200   101.0  0.31747  0.84464   \n",
       "5       2010-01-22  C_20100219_102.0   1266613200   102.0  0.30291  0.80021   \n",
       "...            ...               ...          ...     ...      ...      ...   \n",
       "438011  2019-12-26  C_20221216_270.0   1671224400   270.0  0.22702  0.71808   \n",
       "438012  2019-12-27  C_20221216_300.0   1671224400   300.0  0.20876  0.60934   \n",
       "438013  2019-12-23  C_20221216_320.0   1671224400   320.0  0.19685  0.52760   \n",
       "438014  2019-12-27  C_20221216_325.0   1671224400   325.0  0.19248  0.50798   \n",
       "438015  2019-12-30  C_20221216_325.0   1671224400   325.0  0.19374  0.50241   \n",
       "\n",
       "           DTE     MID  UNDERLYING_LAST  BidAskSpread  VOLUME  IV_DELTA  \\\n",
       "0         11.0   4.630           113.29      0.008639   189.0  -0.02621   \n",
       "1         28.0  10.080           109.22      0.013889   310.0   0.00302   \n",
       "2         28.0   9.195           109.22      0.009788   153.0   0.00070   \n",
       "3         25.0   9.480           109.78      0.016878    78.0  -0.01361   \n",
       "5         28.0   8.300           109.22      0.012048   137.0   0.00230   \n",
       "...        ...     ...              ...           ...     ...       ...   \n",
       "438011  1086.0  70.135           322.94      0.060883    71.0   0.00185   \n",
       "438012  1085.0  49.895           322.85      0.071550    30.0   0.00007   \n",
       "438013  1089.0  38.130           321.27      0.032520    22.0  -0.00158   \n",
       "438014  1085.0  35.405           322.85      0.079367   150.0   0.00126   \n",
       "438015  1082.0  34.760           321.13      0.075374   197.0   0.00243   \n",
       "\n",
       "        IV_LOG_RET    VIX  1Y_US  SPY_LOG_RET EXPIRE_DATE  \n",
       "0        -0.128207  20.04   0.45     0.016818  2010-01-15  \n",
       "1         0.009262  27.31   0.30    -0.022544  2010-02-19  \n",
       "2         0.002207  27.31   0.30    -0.022544  2010-02-19  \n",
       "3        -0.043816  25.41   0.30     0.005115  2010-02-19  \n",
       "5         0.007564  27.31   0.30    -0.022544  2010-02-19  \n",
       "...            ...    ...    ...          ...         ...  \n",
       "438011    0.008116  12.65   1.53     0.005309  2022-12-16  \n",
       "438012    0.000335  13.43   1.51    -0.000248  2022-12-16  \n",
       "438013   -0.008059  12.61   1.53     0.001527  2022-12-16  \n",
       "438014    0.006525  13.43   1.51    -0.000248  2022-12-16  \n",
       "438015    0.012465  14.82   1.57    -0.005528  2022-12-16  \n",
       "\n",
       "[427799 rows x 17 columns]"
      ]
     },
     "execution_count": 12,
     "metadata": {},
     "output_type": "execute_result"
    }
   ],
   "source": [
    "data"
   ]
  },
  {
   "cell_type": "code",
   "execution_count": 14,
   "metadata": {},
   "outputs": [
    {
     "data": {
      "image/png": "[encoded data removed]",
      "text/plain": [
       "<Figure size 1400x800 with 4 Axes>"
      ]
     },
     "metadata": {},
     "output_type": "display_data"
    }
   ],
   "source": [
    "fig, axes = plt.subplots(nrows=2, ncols=2, figsize=(14, 8))\n",
    "axes = axes.flatten()\n",
    "\n",
    "for ax, feat in zip(axes, FACTORS_4):\n",
    "    data[feat].plot(kind='hist', bins=100, grid=True, title=feat, ax=ax)    \n",
    "\n",
    "fig.tight_layout()"
   ]
  },
  {
   "cell_type": "code",
   "execution_count": 29,
   "metadata": {},
   "outputs": [
    {
     "data": {
      "image/png": "[encoded data removed]",
      "text/plain": [
       "<Figure size 1100x400 with 2 Axes>"
      ]
     },
     "metadata": {},
     "output_type": "display_data"
    }
   ],
   "source": [
    "from scipy.stats import jarque_bera\n",
    "fig, axes = plt.subplots(nrows=1, ncols=2, figsize=(11, 4))\n",
    "axes = axes.flatten()\n",
    "\n",
    "for ax, feat in zip(axes, ['IV_DELTA', 'IV_LOG_RET']):\n",
    "    mean = data[feat].mean()\n",
    "    std = data[feat].std()\n",
    "    skewness = data[feat].skew()\n",
    "    kurtosis = data[feat].kurtosis()\n",
    "    data[feat].plot(kind='hist', bins=100, grid=True, title=f'Target: {feat}\\nMean: {mean:0.03f}    Std: {std:0.03f}\\nSkew: {skewness:0.03f}    Kurt: {kurtosis:0.03f}', ax=ax, log=True)\n",
    "\n",
    "fig.tight_layout()"
   ]
  },
  {
   "cell_type": "markdown",
   "metadata": {},
   "source": [
    "# Train Test Splitting"
   ]
  },
  {
   "cell_type": "code",
   "execution_count": 62,
   "metadata": {},
   "outputs": [],
   "source": [
    "train_test = data[data['EXPIRE_UNIX'] < pd.to_datetime('2019-05-01').timestamp()]\n",
    "valid = data.drop(train_test.index)"
   ]
  },
  {
   "cell_type": "code",
   "execution_count": null,
   "metadata": {},
   "outputs": [],
   "source": [
    "train = train_test.sample(frac=0.7, replace=False, random_state=3)\n",
    "test = train_test.drop(train.index)"
   ]
  },
  {
   "cell_type": "code",
   "execution_count": null,
   "metadata": {},
   "outputs": [],
   "source": [
    "len(train_test), len(test), len(valid)"
   ]
  },
  {
   "cell_type": "markdown",
   "metadata": {},
   "source": [
    "### NOTE\n",
    "\n",
    "The Validation set is the last half year of our data, we didnt shuffle that set and made sure that there is no data leakage. Later we use that to prove that shuffeling the datasets introduces data leakage"
   ]
  },
  {
   "cell_type": "code",
   "execution_count": 82,
   "metadata": {},
   "outputs": [
    {
     "data": {
      "text/html": [
       "<div>\n",
       "<style scoped>\n",
       "    .dataframe tbody tr th:only-of-type {\n",
       "        vertical-align: middle;\n",
       "    }\n",
       "\n",
       "    .dataframe tbody tr th {\n",
       "        vertical-align: top;\n",
       "    }\n",
       "\n",
       "    .dataframe thead th {\n",
       "        text-align: right;\n",
       "    }\n",
       "</style>\n",
       "<table border=\"1\" class=\"dataframe\">\n",
       "  <thead>\n",
       "    <tr style=\"text-align: right;\">\n",
       "      <th></th>\n",
       "      <th>QUOTE_DATE</th>\n",
       "      <th>option_id</th>\n",
       "      <th>EXPIRE_UNIX</th>\n",
       "      <th>STRIKE</th>\n",
       "      <th>IV</th>\n",
       "      <th>DELTA</th>\n",
       "      <th>DTE</th>\n",
       "      <th>MID</th>\n",
       "      <th>UNDERLYING_LAST</th>\n",
       "      <th>BidAskSpread</th>\n",
       "      <th>VOLUME</th>\n",
       "      <th>IV_DELTA</th>\n",
       "      <th>IV_LOG_RET</th>\n",
       "      <th>VIX</th>\n",
       "      <th>1Y_US</th>\n",
       "      <th>SPY_LOG_RET</th>\n",
       "      <th>nn_3factors</th>\n",
       "      <th>nn_4factors</th>\n",
       "      <th>xgb3</th>\n",
       "      <th>xgb4</th>\n",
       "    </tr>\n",
       "  </thead>\n",
       "  <tbody>\n",
       "    <tr>\n",
       "      <th>33736</th>\n",
       "      <td>2011-12-14</td>\n",
       "      <td>C_20120120_112.0</td>\n",
       "      <td>1327093200</td>\n",
       "      <td>112.0</td>\n",
       "      <td>0.28089</td>\n",
       "      <td>1.700603</td>\n",
       "      <td>-0.637479</td>\n",
       "      <td>10.330</td>\n",
       "      <td>121.74</td>\n",
       "      <td>0.011617</td>\n",
       "      <td>358.0</td>\n",
       "      <td>-0.02221</td>\n",
       "      <td>-0.082371</td>\n",
       "      <td>1.846414</td>\n",
       "      <td>0.12</td>\n",
       "      <td>-1.168982</td>\n",
       "      <td>0.000723</td>\n",
       "      <td>-0.012632</td>\n",
       "      <td>-0.007249</td>\n",
       "      <td>-0.010626</td>\n",
       "    </tr>\n",
       "    <tr>\n",
       "      <th>33794</th>\n",
       "      <td>2011-12-14</td>\n",
       "      <td>C_20120120_113.0</td>\n",
       "      <td>1327093200</td>\n",
       "      <td>113.0</td>\n",
       "      <td>0.27800</td>\n",
       "      <td>1.553686</td>\n",
       "      <td>-0.637479</td>\n",
       "      <td>9.500</td>\n",
       "      <td>121.74</td>\n",
       "      <td>0.014737</td>\n",
       "      <td>601.0</td>\n",
       "      <td>-0.01916</td>\n",
       "      <td>-0.071411</td>\n",
       "      <td>1.846414</td>\n",
       "      <td>0.12</td>\n",
       "      <td>-1.168982</td>\n",
       "      <td>0.000138</td>\n",
       "      <td>-0.011898</td>\n",
       "      <td>-0.007528</td>\n",
       "      <td>-0.014182</td>\n",
       "    </tr>\n",
       "    <tr>\n",
       "      <th>36610</th>\n",
       "      <td>2011-12-14</td>\n",
       "      <td>C_20120217_108.0</td>\n",
       "      <td>1329512400</td>\n",
       "      <td>108.0</td>\n",
       "      <td>0.31780</td>\n",
       "      <td>1.644867</td>\n",
       "      <td>-0.475281</td>\n",
       "      <td>14.880</td>\n",
       "      <td>121.74</td>\n",
       "      <td>0.013441</td>\n",
       "      <td>122.0</td>\n",
       "      <td>-0.01619</td>\n",
       "      <td>-0.052287</td>\n",
       "      <td>1.846414</td>\n",
       "      <td>0.12</td>\n",
       "      <td>-1.168982</td>\n",
       "      <td>0.000182</td>\n",
       "      <td>-0.007687</td>\n",
       "      <td>-0.005318</td>\n",
       "      <td>-0.007230</td>\n",
       "    </tr>\n",
       "    <tr>\n",
       "      <th>36631</th>\n",
       "      <td>2011-12-14</td>\n",
       "      <td>C_20120217_110.0</td>\n",
       "      <td>1329512400</td>\n",
       "      <td>110.0</td>\n",
       "      <td>0.31115</td>\n",
       "      <td>1.469543</td>\n",
       "      <td>-0.475281</td>\n",
       "      <td>13.225</td>\n",
       "      <td>121.74</td>\n",
       "      <td>0.015879</td>\n",
       "      <td>202.0</td>\n",
       "      <td>-0.01565</td>\n",
       "      <td>-0.051606</td>\n",
       "      <td>1.846414</td>\n",
       "      <td>0.12</td>\n",
       "      <td>-1.168982</td>\n",
       "      <td>-0.000461</td>\n",
       "      <td>-0.006159</td>\n",
       "      <td>-0.005248</td>\n",
       "      <td>-0.007224</td>\n",
       "    </tr>\n",
       "    <tr>\n",
       "      <th>36648</th>\n",
       "      <td>2011-12-14</td>\n",
       "      <td>C_20120217_111.0</td>\n",
       "      <td>1329512400</td>\n",
       "      <td>111.0</td>\n",
       "      <td>0.30406</td>\n",
       "      <td>1.380520</td>\n",
       "      <td>-0.475281</td>\n",
       "      <td>12.375</td>\n",
       "      <td>121.74</td>\n",
       "      <td>0.012121</td>\n",
       "      <td>157.0</td>\n",
       "      <td>-0.01188</td>\n",
       "      <td>-0.039855</td>\n",
       "      <td>1.846414</td>\n",
       "      <td>0.12</td>\n",
       "      <td>-1.168982</td>\n",
       "      <td>-0.000770</td>\n",
       "      <td>-0.005396</td>\n",
       "      <td>-0.003721</td>\n",
       "      <td>-0.007224</td>\n",
       "    </tr>\n",
       "    <tr>\n",
       "      <th>...</th>\n",
       "      <td>...</td>\n",
       "      <td>...</td>\n",
       "      <td>...</td>\n",
       "      <td>...</td>\n",
       "      <td>...</td>\n",
       "      <td>...</td>\n",
       "      <td>...</td>\n",
       "      <td>...</td>\n",
       "      <td>...</td>\n",
       "      <td>...</td>\n",
       "      <td>...</td>\n",
       "      <td>...</td>\n",
       "      <td>...</td>\n",
       "      <td>...</td>\n",
       "      <td>...</td>\n",
       "      <td>...</td>\n",
       "      <td>...</td>\n",
       "      <td>...</td>\n",
       "      <td>...</td>\n",
       "      <td>...</td>\n",
       "    </tr>\n",
       "    <tr>\n",
       "      <th>54414</th>\n",
       "      <td>2010-02-22</td>\n",
       "      <td>C_20121221_115.0</td>\n",
       "      <td>1356123600</td>\n",
       "      <td>115.0</td>\n",
       "      <td>0.20626</td>\n",
       "      <td>-0.051201</td>\n",
       "      <td>5.132132</td>\n",
       "      <td>12.485</td>\n",
       "      <td>111.13</td>\n",
       "      <td>0.021626</td>\n",
       "      <td>25.0</td>\n",
       "      <td>0.00062</td>\n",
       "      <td>0.003001</td>\n",
       "      <td>0.672910</td>\n",
       "      <td>0.37</td>\n",
       "      <td>-0.024931</td>\n",
       "      <td>-0.000325</td>\n",
       "      <td>-0.000557</td>\n",
       "      <td>-0.000053</td>\n",
       "      <td>-0.000402</td>\n",
       "    </tr>\n",
       "    <tr>\n",
       "      <th>54692</th>\n",
       "      <td>2010-02-22</td>\n",
       "      <td>C_20121221_120.0</td>\n",
       "      <td>1356123600</td>\n",
       "      <td>120.0</td>\n",
       "      <td>0.20162</td>\n",
       "      <td>-0.327466</td>\n",
       "      <td>5.132132</td>\n",
       "      <td>10.370</td>\n",
       "      <td>111.13</td>\n",
       "      <td>0.023144</td>\n",
       "      <td>370.0</td>\n",
       "      <td>-0.00059</td>\n",
       "      <td>-0.002931</td>\n",
       "      <td>0.672910</td>\n",
       "      <td>0.37</td>\n",
       "      <td>-0.024931</td>\n",
       "      <td>-0.000318</td>\n",
       "      <td>-0.000507</td>\n",
       "      <td>-0.000058</td>\n",
       "      <td>-0.000693</td>\n",
       "    </tr>\n",
       "    <tr>\n",
       "      <th>55105</th>\n",
       "      <td>2010-02-22</td>\n",
       "      <td>C_20121221_125.0</td>\n",
       "      <td>1356123600</td>\n",
       "      <td>125.0</td>\n",
       "      <td>0.19497</td>\n",
       "      <td>-0.606197</td>\n",
       "      <td>5.132132</td>\n",
       "      <td>8.410</td>\n",
       "      <td>111.13</td>\n",
       "      <td>0.030916</td>\n",
       "      <td>349.0</td>\n",
       "      <td>-0.00025</td>\n",
       "      <td>-0.001283</td>\n",
       "      <td>0.672910</td>\n",
       "      <td>0.37</td>\n",
       "      <td>-0.024931</td>\n",
       "      <td>-0.000310</td>\n",
       "      <td>-0.000460</td>\n",
       "      <td>-0.000121</td>\n",
       "      <td>-0.000682</td>\n",
       "    </tr>\n",
       "    <tr>\n",
       "      <th>58501</th>\n",
       "      <td>2010-02-22</td>\n",
       "      <td>C_20121221_150.0</td>\n",
       "      <td>1356123600</td>\n",
       "      <td>150.0</td>\n",
       "      <td>0.16964</td>\n",
       "      <td>-1.803569</td>\n",
       "      <td>5.132132</td>\n",
       "      <td>2.320</td>\n",
       "      <td>111.13</td>\n",
       "      <td>0.051724</td>\n",
       "      <td>180.0</td>\n",
       "      <td>0.00091</td>\n",
       "      <td>0.005350</td>\n",
       "      <td>0.672910</td>\n",
       "      <td>0.37</td>\n",
       "      <td>-0.024931</td>\n",
       "      <td>-0.000280</td>\n",
       "      <td>-0.000144</td>\n",
       "      <td>-0.000139</td>\n",
       "      <td>0.000076</td>\n",
       "    </tr>\n",
       "    <tr>\n",
       "      <th>59175</th>\n",
       "      <td>2010-02-22</td>\n",
       "      <td>C_20121221_95.0</td>\n",
       "      <td>1356123600</td>\n",
       "      <td>95.0</td>\n",
       "      <td>0.23037</td>\n",
       "      <td>1.004803</td>\n",
       "      <td>5.132132</td>\n",
       "      <td>23.580</td>\n",
       "      <td>111.13</td>\n",
       "      <td>0.017812</td>\n",
       "      <td>105.0</td>\n",
       "      <td>0.00012</td>\n",
       "      <td>0.000521</td>\n",
       "      <td>0.672910</td>\n",
       "      <td>0.37</td>\n",
       "      <td>-0.024931</td>\n",
       "      <td>-0.000355</td>\n",
       "      <td>-0.000669</td>\n",
       "      <td>-0.001334</td>\n",
       "      <td>-0.000373</td>\n",
       "    </tr>\n",
       "  </tbody>\n",
       "</table>\n",
       "<p>301080 rows × 20 columns</p>\n",
       "</div>"
      ],
      "text/plain": [
       "       QUOTE_DATE         option_id  EXPIRE_UNIX  STRIKE       IV     DELTA  \\\n",
       "33736  2011-12-14  C_20120120_112.0   1327093200   112.0  0.28089  1.700603   \n",
       "33794  2011-12-14  C_20120120_113.0   1327093200   113.0  0.27800  1.553686   \n",
       "36610  2011-12-14  C_20120217_108.0   1329512400   108.0  0.31780  1.644867   \n",
       "36631  2011-12-14  C_20120217_110.0   1329512400   110.0  0.31115  1.469543   \n",
       "36648  2011-12-14  C_20120217_111.0   1329512400   111.0  0.30406  1.380520   \n",
       "...           ...               ...          ...     ...      ...       ...   \n",
       "54414  2010-02-22  C_20121221_115.0   1356123600   115.0  0.20626 -0.051201   \n",
       "54692  2010-02-22  C_20121221_120.0   1356123600   120.0  0.20162 -0.327466   \n",
       "55105  2010-02-22  C_20121221_125.0   1356123600   125.0  0.19497 -0.606197   \n",
       "58501  2010-02-22  C_20121221_150.0   1356123600   150.0  0.16964 -1.803569   \n",
       "59175  2010-02-22   C_20121221_95.0   1356123600    95.0  0.23037  1.004803   \n",
       "\n",
       "            DTE     MID  UNDERLYING_LAST  BidAskSpread  VOLUME  IV_DELTA  \\\n",
       "33736 -0.637479  10.330           121.74      0.011617   358.0  -0.02221   \n",
       "33794 -0.637479   9.500           121.74      0.014737   601.0  -0.01916   \n",
       "36610 -0.475281  14.880           121.74      0.013441   122.0  -0.01619   \n",
       "36631 -0.475281  13.225           121.74      0.015879   202.0  -0.01565   \n",
       "36648 -0.475281  12.375           121.74      0.012121   157.0  -0.01188   \n",
       "...         ...     ...              ...           ...     ...       ...   \n",
       "54414  5.132132  12.485           111.13      0.021626    25.0   0.00062   \n",
       "54692  5.132132  10.370           111.13      0.023144   370.0  -0.00059   \n",
       "55105  5.132132   8.410           111.13      0.030916   349.0  -0.00025   \n",
       "58501  5.132132   2.320           111.13      0.051724   180.0   0.00091   \n",
       "59175  5.132132  23.580           111.13      0.017812   105.0   0.00012   \n",
       "\n",
       "       IV_LOG_RET       VIX  1Y_US  SPY_LOG_RET  nn_3factors  nn_4factors  \\\n",
       "33736   -0.082371  1.846414   0.12    -1.168982     0.000723    -0.012632   \n",
       "33794   -0.071411  1.846414   0.12    -1.168982     0.000138    -0.011898   \n",
       "36610   -0.052287  1.846414   0.12    -1.168982     0.000182    -0.007687   \n",
       "36631   -0.051606  1.846414   0.12    -1.168982    -0.000461    -0.006159   \n",
       "36648   -0.039855  1.846414   0.12    -1.168982    -0.000770    -0.005396   \n",
       "...           ...       ...    ...          ...          ...          ...   \n",
       "54414    0.003001  0.672910   0.37    -0.024931    -0.000325    -0.000557   \n",
       "54692   -0.002931  0.672910   0.37    -0.024931    -0.000318    -0.000507   \n",
       "55105   -0.001283  0.672910   0.37    -0.024931    -0.000310    -0.000460   \n",
       "58501    0.005350  0.672910   0.37    -0.024931    -0.000280    -0.000144   \n",
       "59175    0.000521  0.672910   0.37    -0.024931    -0.000355    -0.000669   \n",
       "\n",
       "           xgb3      xgb4  \n",
       "33736 -0.007249 -0.010626  \n",
       "33794 -0.007528 -0.014182  \n",
       "36610 -0.005318 -0.007230  \n",
       "36631 -0.005248 -0.007224  \n",
       "36648 -0.003721 -0.007224  \n",
       "...         ...       ...  \n",
       "54414 -0.000053 -0.000402  \n",
       "54692 -0.000058 -0.000693  \n",
       "55105 -0.000121 -0.000682  \n",
       "58501 -0.000139  0.000076  \n",
       "59175 -0.001334 -0.000373  \n",
       "\n",
       "[301080 rows x 20 columns]"
      ]
     },
     "execution_count": 82,
     "metadata": {},
     "output_type": "execute_result"
    }
   ],
   "source": [
    "train"
   ]
  },
  {
   "cell_type": "code",
   "execution_count": 26,
   "metadata": {},
   "outputs": [],
   "source": [
    "target_mean = train[TARGET].mean()"
   ]
  },
  {
   "cell_type": "markdown",
   "metadata": {},
   "source": [
    "# Benchmark Factor model"
   ]
  },
  {
   "cell_type": "code",
   "execution_count": null,
   "metadata": {},
   "outputs": [],
   "source": [
    "import numpy as np\n",
    "\n",
    "def model_func(coeffs, spy_ret, delta, dtm, y):\n",
    "    a, b, c = coeffs\n",
    "    y_pred = spy_ret * (a + b*delta + c*delta**2) / np.sqrt(dtm)\n",
    "    return y_pred - y\n",
    "\n",
    "def predict_(coeffs, spy_ret, delta, dtm):\n",
    "    a, b, c = coeffs\n",
    "    return spy_ret * (a + b*delta + c*delta**2) / np.sqrt(dtm)\n"
   ]
  },
  {
   "cell_type": "code",
   "execution_count": null,
   "metadata": {},
   "outputs": [],
   "source": [
    "from scipy.optimize import least_squares\n",
    "\n",
    "# Initial guess for coefficients\n",
    "initial_guess = [1.0, 1.0, 1.0]\n",
    "\n",
    "# Data\n",
    "spy_ret = train['SPY_LOG_RET'].to_numpy() # array of x1 values\n",
    "delta = train['DELTA'].to_numpy()  # array of x2 values\n",
    "dtm = train['DTE'].to_numpy()  # array of x3 values\n",
    "y = train[TARGET].to_numpy()    # array of corresponding y values\n",
    "\n",
    "# Perform optimization\n",
    "result = least_squares(model_func, initial_guess, args=(spy_ret, delta, dtm, y))"
   ]
  },
  {
   "cell_type": "code",
   "execution_count": null,
   "metadata": {},
   "outputs": [],
   "source": [
    "COEFS = result['x']"
   ]
  },
  {
   "cell_type": "code",
   "execution_count": null,
   "metadata": {},
   "outputs": [],
   "source": [
    "train['linear_pred'] = predict_(COEFS, train['SPY_LOG_RET'], train['DELTA'], train['DTE'])\n",
    "test['linear_pred'] = predict_(COEFS, test['SPY_LOG_RET'], test['DELTA'], test['DTE'])\n",
    "valid['linear_pred'] = predict_(COEFS, valid['SPY_LOG_RET'], valid['DELTA'], valid['DTE'])"
   ]
  },
  {
   "cell_type": "code",
   "execution_count": null,
   "metadata": {},
   "outputs": [],
   "source": []
  },
  {
   "cell_type": "markdown",
   "metadata": {},
   "source": [
    "# Neural Network"
   ]
  },
  {
   "cell_type": "markdown",
   "metadata": {},
   "source": [
    "### Data Scaling"
   ]
  },
  {
   "cell_type": "code",
   "execution_count": null,
   "metadata": {},
   "outputs": [],
   "source": [
    "# std scaling\n",
    "from sklearn.preprocessing import StandardScaler\n",
    "\n",
    "sclr = StandardScaler()\n",
    "\n",
    "train[FACTORS_4] = sclr.fit_transform(train[FACTORS_4])\n",
    "test[FACTORS_4] = sclr.transform(test[FACTORS_4])\n",
    "valid[FACTORS_4] = sclr.transform(valid[FACTORS_4])"
   ]
  },
  {
   "cell_type": "code",
   "execution_count": 63,
   "metadata": {},
   "outputs": [],
   "source": [
    "# read_saved data\n",
    "train = pd.read_pickle('replication_dataframes/train.pkl')\n",
    "test = pd.read_pickle('replication_dataframes/test.pkl')\n",
    "valid = pd.read_pickle('replication_dataframes/valid.pkl')"
   ]
  },
  {
   "cell_type": "markdown",
   "metadata": {},
   "source": [
    "### 2 Feature Neural Network"
   ]
  },
  {
   "cell_type": "code",
   "execution_count": 4,
   "metadata": {},
   "outputs": [],
   "source": [
    "from torch import nn\n",
    "\n",
    "params = {\n",
    "    'depth': 3,\n",
    "    'width': 150,\n",
    "    'learning_rate': 0.00015,\n",
    "    'batchnorm': False,\n",
    "    'drop_out_rate': 0.01,\n",
    "    'batch_size': 512,\n",
    "    'activation_fn': nn.ReLU,\n",
    "    'n_epochs': 500,\n",
    "    'early_stopping_rounds': 30,\n",
    "    'device': 'cpu',\n",
    "    'scheduler_rate': 0.995\n",
    "}\n",
    "\n",
    "\n",
    "nn_2 = PytorchRegressor(**params)"
   ]
  },
  {
   "cell_type": "code",
   "execution_count": 7,
   "metadata": {},
   "outputs": [
    {
     "name": "stdout",
     "output_type": "stream",
     "text": [
      "Epoch_1 Train_loss: 0.00014128566663352044, Val_loss: 0.0001053163141477853\n",
      "Epoch_2 Train_loss: 0.0001041208930827914, Val_loss: 9.923689503921196e-05\n",
      "Epoch_3 Train_loss: 0.00010094022946577752, Val_loss: 9.795121877687052e-05\n",
      "Epoch_4 Train_loss: 9.966516624227239e-05, Val_loss: 9.86805243883282e-05\n",
      "Epoch_5 Train_loss: 9.950817935950014e-05, Val_loss: 9.77713571046479e-05\n",
      "Epoch_6 Train_loss: 9.926338175721524e-05, Val_loss: 9.786940790945664e-05\n",
      "Epoch_7 Train_loss: 9.913114253647452e-05, Val_loss: 9.80675540631637e-05\n",
      "Epoch_8 Train_loss: 9.898731978987076e-05, Val_loss: 9.917160787153989e-05\n",
      "Epoch_9 Train_loss: 9.884454502282066e-05, Val_loss: 9.805612353375182e-05\n",
      "Epoch_10 Train_loss: 9.88486937024644e-05, Val_loss: 9.74924914771691e-05\n",
      "Epoch_11 Train_loss: 9.899655774321129e-05, Val_loss: 9.759582462720573e-05\n",
      "Epoch_12 Train_loss: 9.883703088333456e-05, Val_loss: 9.795761434361339e-05\n",
      "Epoch_13 Train_loss: 9.864685544016538e-05, Val_loss: 9.777965897228569e-05\n",
      "Epoch_14 Train_loss: 9.866587227302485e-05, Val_loss: 9.730390593176708e-05\n",
      "Epoch_15 Train_loss: 9.847601196815959e-05, Val_loss: 0.00010123892570845783\n",
      "Epoch_16 Train_loss: 9.874413183391224e-05, Val_loss: 9.744449926074594e-05\n",
      "Epoch_17 Train_loss: 9.860251988929584e-05, Val_loss: 9.796082304092124e-05\n",
      "Epoch_18 Train_loss: 9.839175096794115e-05, Val_loss: 9.73316709860228e-05\n",
      "Epoch_19 Train_loss: 9.840652398353816e-05, Val_loss: 9.745096031110734e-05\n",
      "Epoch_20 Train_loss: 9.84600017148549e-05, Val_loss: 9.784132271306589e-05\n",
      "Epoch_21 Train_loss: 9.840289385024111e-05, Val_loss: 9.698243229649961e-05\n",
      "Epoch_22 Train_loss: 9.831673496800712e-05, Val_loss: 9.718226647237316e-05\n",
      "Epoch_23 Train_loss: 9.825006336278853e-05, Val_loss: 9.708529978524894e-05\n",
      "Epoch_24 Train_loss: 9.827369916450555e-05, Val_loss: 9.698493522591889e-05\n",
      "Epoch_25 Train_loss: 9.833631403152602e-05, Val_loss: 9.712381142890081e-05\n",
      "Epoch_26 Train_loss: 9.810881261662751e-05, Val_loss: 9.836584649747238e-05\n",
      "Epoch_27 Train_loss: 9.810398639963183e-05, Val_loss: 9.711517486721277e-05\n",
      "Epoch_28 Train_loss: 9.793900709766723e-05, Val_loss: 9.777089871931821e-05\n",
      "Epoch_29 Train_loss: 9.789511310528261e-05, Val_loss: 9.760611283127218e-05\n",
      "Epoch_30 Train_loss: 9.795763697446568e-05, Val_loss: 9.70380860962905e-05\n",
      "Epoch_31 Train_loss: 9.80245495426419e-05, Val_loss: 9.707769640954211e-05\n",
      "Epoch_32 Train_loss: 9.786393870511302e-05, Val_loss: 9.72601119428873e-05\n",
      "Epoch_33 Train_loss: 9.78584012955849e-05, Val_loss: 9.836623212322593e-05\n",
      "Epoch_34 Train_loss: 9.811027686981881e-05, Val_loss: 9.709707228466868e-05\n",
      "Epoch_35 Train_loss: 9.785020984459972e-05, Val_loss: 9.685851546237245e-05\n",
      "Epoch_36 Train_loss: 9.781116669385439e-05, Val_loss: 9.809905895963311e-05\n",
      "Epoch_37 Train_loss: 9.788800612605868e-05, Val_loss: 9.700726513983682e-05\n",
      "Epoch_38 Train_loss: 9.761692947955214e-05, Val_loss: 9.685425175121054e-05\n",
      "Epoch_39 Train_loss: 9.785294175299732e-05, Val_loss: 9.712415339890867e-05\n",
      "Epoch_40 Train_loss: 9.763570161885582e-05, Val_loss: 9.732120088301599e-05\n",
      "Epoch_41 Train_loss: 9.762602873620306e-05, Val_loss: 9.778539970284328e-05\n",
      "Epoch_42 Train_loss: 9.789798532789869e-05, Val_loss: 9.737506479723379e-05\n",
      "Epoch_43 Train_loss: 9.771208471182512e-05, Val_loss: 9.675667388364673e-05\n",
      "Epoch_44 Train_loss: 9.766101610434592e-05, Val_loss: 9.687223064247519e-05\n",
      "Epoch_45 Train_loss: 9.778301583301966e-05, Val_loss: 9.700492228148505e-05\n",
      "Epoch_46 Train_loss: 9.765479128452812e-05, Val_loss: 9.715542546473444e-05\n",
      "Epoch_47 Train_loss: 9.770711812562382e-05, Val_loss: 9.758878877619281e-05\n",
      "Epoch_48 Train_loss: 9.754471825762579e-05, Val_loss: 9.720576053950936e-05\n",
      "Epoch_49 Train_loss: 9.76546205232897e-05, Val_loss: 9.694290929473937e-05\n",
      "Epoch_50 Train_loss: 9.762021740011061e-05, Val_loss: 9.693234460428357e-05\n",
      "Epoch_51 Train_loss: 9.763536893416265e-05, Val_loss: 9.670622239354998e-05\n",
      "Epoch_52 Train_loss: 9.760001530385572e-05, Val_loss: 9.754936763783917e-05\n",
      "Epoch_53 Train_loss: 9.75747528071105e-05, Val_loss: 9.718097135191783e-05\n",
      "Epoch_54 Train_loss: 9.7563524602399e-05, Val_loss: 9.707462595542893e-05\n",
      "Epoch_55 Train_loss: 9.751809569820953e-05, Val_loss: 9.729892190080136e-05\n",
      "Epoch_56 Train_loss: 9.750888821216621e-05, Val_loss: 9.687375131761655e-05\n",
      "Epoch_57 Train_loss: 9.755636733789884e-05, Val_loss: 9.726681309984997e-05\n",
      "Epoch_58 Train_loss: 9.740827903526045e-05, Val_loss: 9.715826308820397e-05\n",
      "Epoch_59 Train_loss: 9.750599700025499e-05, Val_loss: 9.698178473627195e-05\n",
      "Epoch_60 Train_loss: 9.754611808245097e-05, Val_loss: 9.727953147375956e-05\n",
      "Epoch_61 Train_loss: 9.740054459391223e-05, Val_loss: 9.706164564704522e-05\n",
      "Epoch_62 Train_loss: 9.740659961643673e-05, Val_loss: 9.66915613389574e-05\n",
      "Epoch_63 Train_loss: 9.739468032916431e-05, Val_loss: 9.726883581606671e-05\n",
      "Epoch_64 Train_loss: 9.748052816540308e-05, Val_loss: 9.654659515945241e-05\n",
      "Epoch_65 Train_loss: 9.745346506547992e-05, Val_loss: 9.678742208052427e-05\n",
      "Epoch_66 Train_loss: 9.742341173150038e-05, Val_loss: 9.731742466101423e-05\n",
      "Epoch_67 Train_loss: 9.748312646652416e-05, Val_loss: 9.788166789803654e-05\n",
      "Epoch_68 Train_loss: 9.739370008984954e-05, Val_loss: 9.702757961349562e-05\n",
      "Epoch_69 Train_loss: 9.737961412372628e-05, Val_loss: 9.664599929237738e-05\n",
      "Epoch_70 Train_loss: 9.745704982924509e-05, Val_loss: 9.754159691510722e-05\n",
      "Epoch_71 Train_loss: 9.734874192258385e-05, Val_loss: 9.723436232889071e-05\n",
      "Epoch_72 Train_loss: 9.749805137775571e-05, Val_loss: 9.684018004918471e-05\n",
      "Epoch_73 Train_loss: 9.720087802318139e-05, Val_loss: 9.663419041316956e-05\n",
      "Epoch_74 Train_loss: 9.741153165919431e-05, Val_loss: 9.648856212152168e-05\n",
      "Epoch_75 Train_loss: 9.742704721185098e-05, Val_loss: 9.705025877337903e-05\n",
      "Epoch_76 Train_loss: 9.731181101257088e-05, Val_loss: 9.722904360387474e-05\n",
      "Epoch_77 Train_loss: 9.729916478455215e-05, Val_loss: 9.681750816525891e-05\n",
      "Epoch_78 Train_loss: 9.718998197130248e-05, Val_loss: 9.669504652265459e-05\n",
      "Epoch_79 Train_loss: 9.742742269700698e-05, Val_loss: 9.671811858424917e-05\n",
      "Epoch_80 Train_loss: 9.729222574003601e-05, Val_loss: 9.73578353296034e-05\n",
      "Epoch_81 Train_loss: 9.70999584247007e-05, Val_loss: 9.712845348985866e-05\n",
      "Epoch_82 Train_loss: 9.716974616303112e-05, Val_loss: 9.686708654044196e-05\n",
      "Epoch_83 Train_loss: 9.708532940668625e-05, Val_loss: 9.653736196924001e-05\n",
      "Epoch_84 Train_loss: 9.703778473841176e-05, Val_loss: 9.70365508692339e-05\n",
      "Epoch_85 Train_loss: 9.702020087814938e-05, Val_loss: 9.613653674023226e-05\n",
      "Epoch_86 Train_loss: 9.70144621576049e-05, Val_loss: 9.630400745663792e-05\n",
      "Epoch_87 Train_loss: 9.69658295067407e-05, Val_loss: 9.636589675210416e-05\n",
      "Epoch_88 Train_loss: 9.678472716941691e-05, Val_loss: 9.776055958354846e-05\n",
      "Epoch_89 Train_loss: 9.706037171978453e-05, Val_loss: 9.629311534808949e-05\n",
      "Epoch_90 Train_loss: 9.692337834820167e-05, Val_loss: 9.674421016825363e-05\n",
      "Epoch_91 Train_loss: 9.671723037100775e-05, Val_loss: 9.659369243308902e-05\n",
      "Epoch_92 Train_loss: 9.684903428772441e-05, Val_loss: 9.618994954507798e-05\n",
      "Epoch_93 Train_loss: 9.686248792524088e-05, Val_loss: 9.56865624175407e-05\n",
      "Epoch_94 Train_loss: 9.659236956547113e-05, Val_loss: 9.599961049389094e-05\n",
      "Epoch_95 Train_loss: 9.665434466362177e-05, Val_loss: 9.538509038975462e-05\n",
      "Epoch_96 Train_loss: 9.664120416531004e-05, Val_loss: 9.53313137870282e-05\n",
      "Epoch_97 Train_loss: 9.645161083274421e-05, Val_loss: 9.582725760992616e-05\n",
      "Epoch_98 Train_loss: 9.639366165201417e-05, Val_loss: 9.609782136976719e-05\n",
      "Epoch_99 Train_loss: 9.640770710041683e-05, Val_loss: 9.563163621351123e-05\n",
      "Epoch_100 Train_loss: 9.62244656731825e-05, Val_loss: 9.58371747401543e-05\n",
      "Epoch_101 Train_loss: 9.631974545637142e-05, Val_loss: 9.617514297133312e-05\n",
      "Epoch_102 Train_loss: 9.61775053052764e-05, Val_loss: 9.504891204414889e-05\n",
      "Epoch_103 Train_loss: 9.625598633689061e-05, Val_loss: 9.614624286768958e-05\n",
      "Epoch_104 Train_loss: 9.633529516434122e-05, Val_loss: 9.570443216944113e-05\n",
      "Epoch_105 Train_loss: 9.618959176495096e-05, Val_loss: 9.535210847388953e-05\n",
      "Epoch_106 Train_loss: 9.625395174201704e-05, Val_loss: 9.546847286401317e-05\n",
      "Epoch_107 Train_loss: 9.628863067718769e-05, Val_loss: 9.486280760029331e-05\n",
      "Epoch_108 Train_loss: 9.621110991966056e-05, Val_loss: 9.601293277228251e-05\n",
      "Epoch_109 Train_loss: 9.618935416515565e-05, Val_loss: 9.505831985734403e-05\n",
      "Epoch_110 Train_loss: 9.589321575322919e-05, Val_loss: 9.557444718666375e-05\n",
      "Epoch_111 Train_loss: 9.607848504913177e-05, Val_loss: 9.652828157413751e-05\n",
      "Epoch_112 Train_loss: 9.606620761280551e-05, Val_loss: 9.573146962793544e-05\n",
      "Epoch_113 Train_loss: 9.590236864460167e-05, Val_loss: 9.545290959067643e-05\n",
      "Epoch_114 Train_loss: 9.587736182095154e-05, Val_loss: 9.99063195195049e-05\n",
      "Epoch_115 Train_loss: 9.616742300460799e-05, Val_loss: 9.469348879065365e-05\n",
      "Epoch_116 Train_loss: 9.591551281524427e-05, Val_loss: 9.513503755442798e-05\n",
      "Epoch_117 Train_loss: 9.590387987972478e-05, Val_loss: 9.462970774620771e-05\n",
      "Epoch_118 Train_loss: 9.579163485029655e-05, Val_loss: 9.457284613745287e-05\n",
      "Epoch_119 Train_loss: 9.576090652250865e-05, Val_loss: 9.847382170846686e-05\n",
      "Epoch_120 Train_loss: 9.595147405558296e-05, Val_loss: 9.440466237720102e-05\n",
      "Epoch_121 Train_loss: 9.603657031772452e-05, Val_loss: 9.483856410952285e-05\n",
      "Epoch_122 Train_loss: 9.58585116039431e-05, Val_loss: 9.430590580450371e-05\n",
      "Epoch_123 Train_loss: 9.554836782567168e-05, Val_loss: 9.463253081776202e-05\n",
      "Epoch_124 Train_loss: 9.565710104223279e-05, Val_loss: 9.422080620424822e-05\n",
      "Epoch_125 Train_loss: 9.565049198440125e-05, Val_loss: 9.386543388245627e-05\n",
      "Epoch_126 Train_loss: 9.547080135211008e-05, Val_loss: 9.376363595947623e-05\n",
      "Epoch_127 Train_loss: 9.515440889949563e-05, Val_loss: 0.00010162394028156996\n",
      "Epoch_128 Train_loss: 9.514612682687584e-05, Val_loss: 9.394215157954022e-05\n",
      "Epoch_129 Train_loss: 9.487998401044799e-05, Val_loss: 9.33645133045502e-05\n",
      "Epoch_130 Train_loss: 9.47191289726971e-05, Val_loss: 9.341005352325737e-05\n",
      "Epoch_131 Train_loss: 9.49005866592624e-05, Val_loss: 9.370587213197723e-05\n",
      "Epoch_132 Train_loss: 9.470580679109964e-05, Val_loss: 9.449788922211155e-05\n",
      "Epoch_133 Train_loss: 9.48893959041433e-05, Val_loss: 9.456770203541964e-05\n",
      "Epoch_134 Train_loss: 9.462396065431616e-05, Val_loss: 9.454978135181591e-05\n",
      "Epoch_135 Train_loss: 9.473210952082958e-05, Val_loss: 9.417648834642023e-05\n",
      "Epoch_136 Train_loss: 9.474892831748862e-05, Val_loss: 9.32940820348449e-05\n",
      "Epoch_137 Train_loss: 9.461750866198525e-05, Val_loss: 9.316002251580358e-05\n",
      "Epoch_138 Train_loss: 9.448026162684327e-05, Val_loss: 9.351583867100999e-05\n",
      "Epoch_139 Train_loss: 9.460281666083649e-05, Val_loss: 9.466543269809335e-05\n",
      "Epoch_140 Train_loss: 9.428238989935604e-05, Val_loss: 9.403009607922286e-05\n",
      "Epoch_141 Train_loss: 9.451609783497931e-05, Val_loss: 9.367811435367912e-05\n",
      "Epoch_142 Train_loss: 9.428821975777029e-05, Val_loss: 9.305245475843549e-05\n",
      "Epoch_143 Train_loss: 9.44285267782345e-05, Val_loss: 9.587752720108256e-05\n",
      "Epoch_144 Train_loss: 9.422699007330668e-05, Val_loss: 9.317434160038829e-05\n",
      "Epoch_145 Train_loss: 9.431365591027301e-05, Val_loss: 9.363749268231913e-05\n",
      "Epoch_146 Train_loss: 9.445438614176189e-05, Val_loss: 9.294802293879911e-05\n",
      "Epoch_147 Train_loss: 9.437755224823123e-05, Val_loss: 9.449713979847729e-05\n",
      "Epoch_148 Train_loss: 9.421957484622997e-05, Val_loss: 9.30662572500296e-05\n",
      "Epoch_149 Train_loss: 9.416764803215495e-05, Val_loss: 9.4671304395888e-05\n",
      "Epoch_150 Train_loss: 9.429143159143335e-05, Val_loss: 9.583479550201446e-05\n",
      "Epoch_151 Train_loss: 9.429005698525617e-05, Val_loss: 9.288520959671587e-05\n",
      "Epoch_152 Train_loss: 9.423226172454678e-05, Val_loss: 9.316358773503453e-05\n",
      "Epoch_153 Train_loss: 9.400415419888126e-05, Val_loss: 9.365696314489469e-05\n",
      "Epoch_154 Train_loss: 9.410307433963829e-05, Val_loss: 9.310201130574569e-05\n",
      "Epoch_155 Train_loss: 9.44322463167692e-05, Val_loss: 9.348420280730352e-05\n",
      "Epoch_156 Train_loss: 9.431099335576663e-05, Val_loss: 9.381975542055443e-05\n",
      "Epoch_157 Train_loss: 9.428283309117417e-05, Val_loss: 9.309701999882236e-05\n",
      "Epoch_158 Train_loss: 9.427075828555599e-05, Val_loss: 9.314702765550464e-05\n",
      "Epoch_159 Train_loss: 9.412051676369375e-05, Val_loss: 9.326187137048692e-05\n",
      "Epoch_160 Train_loss: 9.412224535182878e-05, Val_loss: 9.353497443953529e-05\n",
      "Epoch_161 Train_loss: 9.40115452344724e-05, Val_loss: 9.271776070818305e-05\n",
      "Epoch_162 Train_loss: 9.415928116958058e-05, Val_loss: 9.670445433584973e-05\n",
      "Epoch_163 Train_loss: 9.405181256669657e-05, Val_loss: 9.411671635461971e-05\n",
      "Epoch_164 Train_loss: 9.421867067383156e-05, Val_loss: 9.311918256571516e-05\n",
      "Epoch_165 Train_loss: 9.401989804574128e-05, Val_loss: 9.347480227006599e-05\n",
      "Epoch_166 Train_loss: 9.397195774721187e-05, Val_loss: 9.261710511054844e-05\n",
      "Epoch_167 Train_loss: 9.408580668062568e-05, Val_loss: 9.357700037071481e-05\n",
      "Epoch_168 Train_loss: 9.3856328992425e-05, Val_loss: 9.486047929385677e-05\n",
      "Epoch_169 Train_loss: 9.376127304679611e-05, Val_loss: 9.243548265658319e-05\n",
      "Epoch_170 Train_loss: 9.422585315692007e-05, Val_loss: 9.26668944885023e-05\n",
      "Epoch_171 Train_loss: 9.39784821898311e-05, Val_loss: 9.295102063333616e-05\n",
      "Epoch_172 Train_loss: 9.389198049262393e-05, Val_loss: 9.339430107502267e-05\n",
      "Epoch_173 Train_loss: 9.409293403121887e-05, Val_loss: 9.29174420889467e-05\n",
      "Epoch_174 Train_loss: 9.389328774108674e-05, Val_loss: 9.430278441868722e-05\n",
      "Epoch_175 Train_loss: 9.410211740336696e-05, Val_loss: 9.273031901102513e-05\n",
      "Epoch_176 Train_loss: 9.386349188273136e-05, Val_loss: 9.316366777056828e-05\n",
      "Epoch_177 Train_loss: 9.382851708267213e-05, Val_loss: 9.260973456548527e-05\n",
      "Epoch_178 Train_loss: 9.385861443667234e-05, Val_loss: 9.385367593495175e-05\n",
      "Epoch_179 Train_loss: 9.374758149160847e-05, Val_loss: 9.546890942147002e-05\n",
      "Epoch_180 Train_loss: 9.399762639578348e-05, Val_loss: 9.299474186263978e-05\n",
      "Epoch_181 Train_loss: 9.373410746071595e-05, Val_loss: 9.28617810131982e-05\n",
      "Epoch_182 Train_loss: 9.393386210548238e-05, Val_loss: 9.307063737651333e-05\n",
      "Epoch_183 Train_loss: 9.35807422888427e-05, Val_loss: 9.30762107600458e-05\n",
      "Epoch_184 Train_loss: 9.363885370004908e-05, Val_loss: 9.222734661307186e-05\n",
      "Epoch_185 Train_loss: 9.36699885603987e-05, Val_loss: 9.278058860218152e-05\n",
      "Epoch_186 Train_loss: 9.351644009701454e-05, Val_loss: 9.333672642242163e-05\n",
      "Epoch_187 Train_loss: 9.38823951916272e-05, Val_loss: 9.266647975891829e-05\n",
      "Epoch_188 Train_loss: 9.399268506335755e-05, Val_loss: 9.297436190536246e-05\n",
      "Epoch_189 Train_loss: 9.335376866505106e-05, Val_loss: 9.31541362660937e-05\n",
      "Epoch_190 Train_loss: 9.329800727507853e-05, Val_loss: 9.366402082378045e-05\n",
      "Epoch_191 Train_loss: 9.366139892589389e-05, Val_loss: 9.226035763276741e-05\n",
      "Epoch_192 Train_loss: 9.361695604779104e-05, Val_loss: 9.443089220440015e-05\n",
      "Epoch_193 Train_loss: 9.34720473689863e-05, Val_loss: 9.242509258911014e-05\n",
      "Epoch_194 Train_loss: 9.335982116430924e-05, Val_loss: 9.277820208808407e-05\n",
      "Epoch_195 Train_loss: 9.397494761764929e-05, Val_loss: 9.325329301645979e-05\n",
      "Epoch_196 Train_loss: 9.400002135488216e-05, Val_loss: 9.337105439044535e-05\n",
      "Epoch_197 Train_loss: 9.412119277500305e-05, Val_loss: 9.249169670511037e-05\n",
      "Epoch_198 Train_loss: 9.403392657652864e-05, Val_loss: 9.285638225264847e-05\n",
      "Epoch_199 Train_loss: 9.401393173294443e-05, Val_loss: 9.437779954168946e-05\n",
      "Epoch_200 Train_loss: 9.392004980410823e-05, Val_loss: 9.29104135138914e-05\n",
      "Epoch_201 Train_loss: 9.389929410433263e-05, Val_loss: 9.523873450234532e-05\n",
      "Epoch_202 Train_loss: 9.392238468753335e-05, Val_loss: 9.30088572204113e-05\n",
      "Epoch_203 Train_loss: 9.381459488869324e-05, Val_loss: 9.308757580583915e-05\n",
      "Epoch_204 Train_loss: 9.388530158571857e-05, Val_loss: 9.256331395590678e-05\n",
      "Epoch_205 Train_loss: 9.385444358146041e-05, Val_loss: 9.27621586015448e-05\n",
      "Epoch_206 Train_loss: 9.374604710134665e-05, Val_loss: 9.318795491708443e-05\n",
      "Epoch_207 Train_loss: 9.382188004407208e-05, Val_loss: 9.283600229537115e-05\n",
      "Epoch_208 Train_loss: 9.386576291664645e-05, Val_loss: 9.254032192984596e-05\n",
      "Epoch_209 Train_loss: 9.369155608528374e-05, Val_loss: 9.286066051572561e-05\n",
      "Epoch_210 Train_loss: 9.341366958878859e-05, Val_loss: 9.316847717855126e-05\n",
      "Epoch_211 Train_loss: 9.359133524794444e-05, Val_loss: 9.214997407980263e-05\n",
      "Epoch_212 Train_loss: 9.371559400466647e-05, Val_loss: 9.413400402991101e-05\n",
      "Epoch_213 Train_loss: 9.344067939864395e-05, Val_loss: 9.232743468601257e-05\n",
      "Epoch_214 Train_loss: 9.361476788894163e-05, Val_loss: 9.273763134842739e-05\n",
      "Epoch_215 Train_loss: 9.386861255212562e-05, Val_loss: 9.246510308003053e-05\n",
      "Epoch_216 Train_loss: 9.35583310245897e-05, Val_loss: 9.285742999054492e-05\n",
      "Epoch_217 Train_loss: 9.34890583241034e-05, Val_loss: 9.236923506250605e-05\n",
      "Epoch_218 Train_loss: 9.348788027965071e-05, Val_loss: 9.284862608183175e-05\n",
      "Epoch_219 Train_loss: 9.35588395508096e-05, Val_loss: 9.295644849771634e-05\n",
      "Epoch_220 Train_loss: 9.375568493064226e-05, Val_loss: 9.32991606532596e-05\n",
      "Epoch_221 Train_loss: 9.355413298550555e-05, Val_loss: 9.2778165708296e-05\n",
      "Epoch_222 Train_loss: 9.353203355615242e-05, Val_loss: 9.26973661989905e-05\n",
      "Epoch_223 Train_loss: 9.343315113193192e-05, Val_loss: 9.224290261045098e-05\n",
      "Epoch_224 Train_loss: 9.319448189704477e-05, Val_loss: 9.518898878013715e-05\n",
      "Epoch_225 Train_loss: 9.34690298879e-05, Val_loss: 9.332218178315088e-05\n",
      "Epoch_226 Train_loss: 9.337031085067525e-05, Val_loss: 9.222187509294599e-05\n",
      "Epoch_227 Train_loss: 9.311766330318307e-05, Val_loss: 9.20980965020135e-05\n",
      "Epoch_228 Train_loss: 9.352449597627426e-05, Val_loss: 9.244526154361665e-05\n",
      "Epoch_229 Train_loss: 9.313337184709677e-05, Val_loss: 9.193315781885758e-05\n",
      "Epoch_230 Train_loss: 9.30453470548363e-05, Val_loss: 9.225514804711565e-05\n",
      "Epoch_231 Train_loss: 9.302245314136629e-05, Val_loss: 9.164531365968287e-05\n",
      "Epoch_232 Train_loss: 9.303585631218471e-05, Val_loss: 9.154122381005436e-05\n",
      "Epoch_233 Train_loss: 9.298983179929773e-05, Val_loss: 9.370223415317014e-05\n",
      "Epoch_234 Train_loss: 9.286090657668433e-05, Val_loss: 9.227511327480897e-05\n",
      "Epoch_235 Train_loss: 9.265675577769232e-05, Val_loss: 9.274973854189739e-05\n",
      "Epoch_236 Train_loss: 9.262948068212832e-05, Val_loss: 9.250472066923976e-05\n",
      "Epoch_237 Train_loss: 9.271286921749811e-05, Val_loss: 9.229520219378173e-05\n",
      "Epoch_238 Train_loss: 9.26384840263903e-05, Val_loss: 9.140205656876788e-05\n",
      "Epoch_239 Train_loss: 9.271495711925768e-05, Val_loss: 9.239067003363743e-05\n",
      "Epoch_240 Train_loss: 9.260199433915435e-05, Val_loss: 9.164309449261054e-05\n",
      "Epoch_241 Train_loss: 9.261649579800223e-05, Val_loss: 9.221314394380897e-05\n",
      "Epoch_242 Train_loss: 9.27200561900314e-05, Val_loss: 9.125153883360326e-05\n",
      "Epoch_243 Train_loss: 9.255307411131369e-05, Val_loss: 9.13296316866763e-05\n",
      "Epoch_244 Train_loss: 9.297172768319648e-05, Val_loss: 9.329393651569262e-05\n",
      "Epoch_245 Train_loss: 9.274945707207347e-05, Val_loss: 9.348450839752331e-05\n",
      "Epoch_246 Train_loss: 9.249262922833728e-05, Val_loss: 9.174379374599084e-05\n",
      "Epoch_247 Train_loss: 9.203916911470425e-05, Val_loss: 9.22883627936244e-05\n",
      "Epoch_248 Train_loss: 9.233738201862148e-05, Val_loss: 9.206888353219256e-05\n",
      "Epoch_249 Train_loss: 9.240043990325458e-05, Val_loss: 9.194736776407808e-05\n",
      "Epoch_250 Train_loss: 9.227374616465731e-05, Val_loss: 9.123774361796677e-05\n",
      "Epoch_251 Train_loss: 9.228103611954406e-05, Val_loss: 9.187097020912915e-05\n",
      "Epoch_252 Train_loss: 9.228619588128688e-05, Val_loss: 9.15018463274464e-05\n",
      "Epoch_253 Train_loss: 9.237853014201391e-05, Val_loss: 9.150763071374968e-05\n",
      "Epoch_254 Train_loss: 9.255123183145054e-05, Val_loss: 9.256217890651897e-05\n",
      "Epoch_255 Train_loss: 9.327122386731971e-05, Val_loss: 9.32884868234396e-05\n",
      "Epoch_256 Train_loss: 9.310928890247806e-05, Val_loss: 9.23469997360371e-05\n",
      "Epoch_257 Train_loss: 9.302777900910634e-05, Val_loss: 9.253776079276577e-05\n",
      "Epoch_258 Train_loss: 9.336558284073855e-05, Val_loss: 9.225390385836363e-05\n",
      "Epoch_259 Train_loss: 9.309521144970233e-05, Val_loss: 9.215137106366456e-05\n",
      "Epoch_260 Train_loss: 9.300064130533071e-05, Val_loss: 9.258398495148867e-05\n",
      "Epoch_261 Train_loss: 9.316783659095727e-05, Val_loss: 9.239136124961078e-05\n",
      "Epoch_262 Train_loss: 9.318934934344724e-05, Val_loss: 9.262023377232254e-05\n",
      "Epoch_263 Train_loss: 9.296603487138007e-05, Val_loss: 9.305569983553141e-05\n",
      "Epoch_264 Train_loss: 9.30738486753935e-05, Val_loss: 9.275026241084561e-05\n",
      "Epoch_265 Train_loss: 9.290095023028638e-05, Val_loss: 9.2404501629062e-05\n",
      "Epoch_266 Train_loss: 9.293410534781764e-05, Val_loss: 9.244367538485676e-05\n",
      "Epoch_267 Train_loss: 9.29403791843902e-05, Val_loss: 9.440914436709136e-05\n",
      "Epoch_268 Train_loss: 9.313276589795141e-05, Val_loss: 9.212746226694435e-05\n",
      "Epoch_269 Train_loss: 9.307425075280289e-05, Val_loss: 9.260375372832641e-05\n",
      "Epoch_270 Train_loss: 9.299148575590778e-05, Val_loss: 9.266590495826676e-05\n",
      "Epoch_271 Train_loss: 9.313005272329586e-05, Val_loss: 9.286536078434438e-05\n",
      "Epoch_272 Train_loss: 9.31491353565762e-05, Val_loss: 9.281545499106869e-05\n",
      "Epoch_273 Train_loss: 9.299513333241863e-05, Val_loss: 9.356862574350089e-05\n",
      "Epoch_274 Train_loss: 9.3287480033082e-05, Val_loss: 9.225941175827757e-05\n",
      "Epoch_275 Train_loss: 9.307937306525151e-05, Val_loss: 9.229413262801245e-05\n",
      "Epoch_276 Train_loss: 9.32967570870609e-05, Val_loss: 9.313536429544911e-05\n",
      "Epoch_277 Train_loss: 9.292357723831226e-05, Val_loss: 9.34618801693432e-05\n",
      "Epoch_278 Train_loss: 9.279586395895735e-05, Val_loss: 9.492167009739205e-05\n",
      "Epoch_279 Train_loss: 9.29659657203807e-05, Val_loss: 9.343677083961666e-05\n",
      "Early stopping at epoch 280\n"
     ]
    }
   ],
   "source": [
    "nn_2.fit(train[FACTORS_2].to_numpy(), train[TARGET].to_numpy(), eval_set=[(test[FACTORS_2].to_numpy(), test[TARGET].to_numpy())])\n",
    "pd.to_pickle(nn_2, '2feature.model')"
   ]
  },
  {
   "cell_type": "code",
   "execution_count": 10,
   "metadata": {},
   "outputs": [],
   "source": [
    "train['nn_2factors'] = nn_2.predict(train[FACTORS_2].to_numpy())\n",
    "test['nn_2factors'] = nn_2.predict(test[FACTORS_2].to_numpy())\n",
    "valid['nn_2factors'] = nn_2.predict(valid[FACTORS_2].to_numpy())"
   ]
  },
  {
   "cell_type": "markdown",
   "metadata": {},
   "source": [
    "### 3 Feature Neural Network"
   ]
  },
  {
   "cell_type": "code",
   "execution_count": null,
   "metadata": {},
   "outputs": [],
   "source": [
    "from torch import nn\n",
    "\n",
    "params = {\n",
    "    'depth': 3,\n",
    "    'width': 150,\n",
    "    'learning_rate': 0.00015,\n",
    "    'batchnorm': False,\n",
    "    'drop_out_rate': 0.01,\n",
    "    'batch_size': 512,\n",
    "    'activation_fn': nn.ReLU,\n",
    "    'n_epochs': 500,\n",
    "    'early_stopping_rounds': 30,\n",
    "    'device': 'cpu',\n",
    "    'scheduler_rate': 0.995\n",
    "}\n",
    "\n",
    "\n",
    "nn_3 = PytorchRegressor(**params)"
   ]
  },
  {
   "cell_type": "code",
   "execution_count": null,
   "metadata": {},
   "outputs": [],
   "source": [
    "nn_3.fit(train[FACTORS_3].to_numpy(), train[TARGET].to_numpy(), eval_set=[(test[FACTORS_3].to_numpy(), test[TARGET].to_numpy())])\n",
    "pd.to_pickle(nn_3, '3feature.model')"
   ]
  },
  {
   "cell_type": "code",
   "execution_count": null,
   "metadata": {},
   "outputs": [],
   "source": [
    "train['nn_3factors'] = nn_3.predict(train[FACTORS_3].to_numpy())\n",
    "test['nn_3factors'] = nn_3.predict(test[FACTORS_3].to_numpy())\n",
    "valid['nn_3factors'] = nn_3.predict(valid[FACTORS_3 ].to_numpy())"
   ]
  },
  {
   "cell_type": "markdown",
   "metadata": {},
   "source": [
    "### 4 Feature Neural Network"
   ]
  },
  {
   "cell_type": "code",
   "execution_count": null,
   "metadata": {},
   "outputs": [],
   "source": [
    "from torch import nn\n",
    "\n",
    "params = {\n",
    "    'depth': 3,\n",
    "    'width': 150,\n",
    "    'learning_rate': 0.00015,\n",
    "    'batchnorm': False,\n",
    "    'drop_out_rate': 0.01,\n",
    "    'batch_size': 512,\n",
    "    'activation_fn': nn.ReLU,\n",
    "    'n_epochs': 500,\n",
    "    'early_stopping_rounds': 30,\n",
    "    'device': 'cpu',\n",
    "    'scheduler_rate': 0.995\n",
    "}\n",
    "\n",
    "\n",
    "nn_4 = PytorchRegressor(**params)"
   ]
  },
  {
   "cell_type": "code",
   "execution_count": null,
   "metadata": {},
   "outputs": [],
   "source": [
    "nn_4.fit(train[FACTORS_4].to_numpy(), train[TARGET].to_numpy(), eval_set=[(test[FACTORS_4].to_numpy(), test[TARGET].to_numpy())])\n",
    "pd.to_pickle(nn_4, '4feature_v2.model')"
   ]
  },
  {
   "cell_type": "code",
   "execution_count": null,
   "metadata": {},
   "outputs": [],
   "source": [
    "train['nn_4factors'] = nn_4.predict(train[FACTORS_4].to_numpy())\n",
    "test['nn_4factors'] = nn_4.predict(test[FACTORS_4].to_numpy())\n",
    "valid['nn_4factors'] = nn_4.predict(valid[FACTORS_4 ].to_numpy())"
   ]
  },
  {
   "cell_type": "markdown",
   "metadata": {},
   "source": [
    "# Xgboost"
   ]
  },
  {
   "cell_type": "code",
   "execution_count": 11,
   "metadata": {},
   "outputs": [],
   "source": [
    "from xgboost import XGBRegressor"
   ]
  },
  {
   "cell_type": "code",
   "execution_count": 13,
   "metadata": {},
   "outputs": [],
   "source": [
    "model2 = XGBRegressor()\n",
    "\n",
    "model2.fit(train[FACTORS_2], train[TARGET])\n",
    "train['xgb2'] = model2.predict(train[FACTORS_2])\n",
    "test['xgb2'] = model2.predict(test[FACTORS_2])\n",
    "valid['xgb2'] = model2.predict(valid[FACTORS_2])"
   ]
  },
  {
   "cell_type": "code",
   "execution_count": null,
   "metadata": {},
   "outputs": [],
   "source": [
    "model3 = XGBRegressor()\n",
    "\n",
    "model3.fit(train[FACTORS_3], train[TARGET])\n",
    "train['xgb3'] = model3.predict(train[FACTORS_3])\n",
    "test['xgb3'] = model3.predict(test[FACTORS_3])\n",
    "valid['xgb3'] = model3.predict(valid[FACTORS_3])"
   ]
  },
  {
   "cell_type": "code",
   "execution_count": 14,
   "metadata": {},
   "outputs": [],
   "source": [
    "model4 = XGBRegressor()\n",
    "\n",
    "model4.fit(train[FACTORS_4], train[TARGET])\n",
    "train['xgb4'] = model4.predict(train[FACTORS_4])\n",
    "test['xgb4'] = model4.predict(test[FACTORS_4])\n",
    "valid['xgb4'] = model4.predict(valid[FACTORS_4])"
   ]
  },
  {
   "cell_type": "code",
   "execution_count": 20,
   "metadata": {},
   "outputs": [],
   "source": [
    "train['Noise'] = np.random.normal(size=(len(train)))\n",
    "test['Noise'] = np.random.normal(size=(len(test)))\n",
    "valid['Noise'] = np.random.normal(size=(len(valid)))\n",
    "FACTORS_5 = FACTORS_4 + ['Noise']\n",
    "\n",
    "model5 = XGBRegressor()\n",
    "\n",
    "model5.fit(train[FACTORS_5], train[TARGET])\n",
    "train['xgb5'] = model5.predict(train[FACTORS_5])\n",
    "test['xgb5'] = model5.predict(test[FACTORS_5])\n",
    "valid['xgb5'] = model5.predict(valid[FACTORS_5])"
   ]
  },
  {
   "cell_type": "markdown",
   "metadata": {},
   "source": [
    "### Plot Feature Importance"
   ]
  },
  {
   "cell_type": "code",
   "execution_count": 22,
   "metadata": {},
   "outputs": [
    {
     "data": {
      "image/png": "[encoded data removed]",
      "text/plain": [
       "<Figure size 1200x800 with 1 Axes>"
      ]
     },
     "metadata": {},
     "output_type": "display_data"
    }
   ],
   "source": [
    "plot_importance(model5, FACTORS_5)"
   ]
  },
  {
   "cell_type": "markdown",
   "metadata": {},
   "source": [
    "### Save Replication Data"
   ]
  },
  {
   "cell_type": "code",
   "execution_count": 31,
   "metadata": {},
   "outputs": [],
   "source": [
    "train.to_pickle('replication_dataframes/train.pkl')\n",
    "test.to_pickle('replication_dataframes/test.pkl')\n",
    "valid.to_pickle('replication_dataframes/valid.pkl')"
   ]
  },
  {
   "cell_type": "markdown",
   "metadata": {},
   "source": [
    "# Results"
   ]
  },
  {
   "cell_type": "markdown",
   "metadata": {},
   "source": [
    "### Test Set"
   ]
  },
  {
   "cell_type": "code",
   "execution_count": 66,
   "metadata": {},
   "outputs": [
    {
     "name": "stdout",
     "output_type": "stream",
     "text": [
      "=== MSE ===\n",
      "Benchmark: 0.00010188022380417244\n",
      "NN_2: 9.27042288903854e-05\n",
      "NN_3: 8.896219154036019e-05\n",
      "NN_4: 5.511984666903816e-05\n",
      "XGB_2: 9.309776121495986e-05\n",
      "XGB_3: 6.684825780157088e-05\n",
      "XGB_4: 3.4248413425385866e-05\n",
      "=== Gain over Benchmark ===\n",
      "NN_2: 0.09006649741390971\n",
      "NN_3: 0.12679626900547902\n",
      "NN_4: 0.4589740323403102\n",
      "XGB_2: 0.08620380149629092\n",
      "XGB_3: 0.34385442723347104\n",
      "XGB_4: 0.6638364920436772\n",
      "=== R-Squared ===\n",
      "Benchmark: 0.0027929306585220415\n",
      "NN_2: 0.0926078785904988\n",
      "NN_3: 0.12923506647690952\n",
      "NN_4: 0.4604850803524435\n",
      "XGB_2: 0.08875597091473286\n",
      "XGB_3: 0.34568699632010425\n",
      "XGB_4: 0.6647753734113248\n"
     ]
    }
   ],
   "source": [
    "print('=== MSE ===')\n",
    "print('Benchmark:', mean_squared_error(test[TARGET], test['linear_pred']))\n",
    "print('NN_2:', mean_squared_error(test[TARGET], test['nn_2factors']))\n",
    "print('NN_3:', mean_squared_error(test[TARGET], test['nn_3factors']))\n",
    "print('NN_4:', mean_squared_error(test[TARGET], test['nn_4factors']))\n",
    "print('XGB_2:', mean_squared_error(test[TARGET], test['xgb2']))\n",
    "print('XGB_3:', mean_squared_error(test[TARGET], test['xgb3']))\n",
    "print('XGB_4:', mean_squared_error(test[TARGET], test['xgb4']))\n",
    "\n",
    "print('=== Gain over Benchmark ===')\n",
    "print('NN_2:', calculate_gain(test, 'nn_2factors', 'linear_pred'))\n",
    "print('NN_3:', calculate_gain(test, 'nn_3factors', 'linear_pred'))\n",
    "print('NN_4:', calculate_gain(test, 'nn_4factors', 'linear_pred'))\n",
    "print('XGB_2:', calculate_gain(test, 'xgb2', 'linear_pred'))\n",
    "print('XGB_3:', calculate_gain(test, 'xgb3', 'linear_pred'))\n",
    "print('XGB_4:', calculate_gain(test, 'xgb4', 'linear_pred'))\n",
    "\n",
    "print('=== R-Squared ===')\n",
    "print('Benchmark:', r_square(test, 'linear_pred'))\n",
    "print('NN_2:', r_square(test, 'nn_2factors'))\n",
    "print('NN_3:', r_square(test, 'nn_3factors'))\n",
    "print('NN_4:', r_square(test, 'nn_4factors'))\n",
    "print('XGB_2:', r_square(test, 'xgb2'))\n",
    "print('XGB_3:', r_square(test, 'xgb3'))\n",
    "print('XGB_4:', r_square(test, 'xgb4'))"
   ]
  },
  {
   "cell_type": "markdown",
   "metadata": {},
   "source": [
    "### Validation Set"
   ]
  },
  {
   "cell_type": "code",
   "execution_count": 65,
   "metadata": {},
   "outputs": [
    {
     "name": "stdout",
     "output_type": "stream",
     "text": [
      "=== MSE ===\n",
      "Benchmark: 7.97971210854851e-05\n",
      "NN_2: 8.513314689162278e-05\n",
      "NN_3: 9.291031691280007e-05\n",
      "NN_4: 0.00012166895158951415\n",
      "XGB_2: 9.286203511524171e-05\n",
      "XGB_3: 0.00011584241173589365\n",
      "XGB_4: 0.00010249701782909527\n",
      "=== Gain over Benchmark ===\n",
      "NN_2: -0.06686990374529045\n",
      "NN_3: -0.16433169077950893\n",
      "NN_4: -0.5247285858743271\n",
      "XGB_2: -0.16372663389397757\n",
      "XGB_3: -0.45171166779054506\n",
      "XGB_4: -0.2844701216638157\n",
      "=== R-Squared ===\n",
      "Benchmark: 0.04538600959989847\n",
      "NN_2: -0.018448936052064102\n",
      "NN_3: -0.11148732148432416\n",
      "NN_4: -0.4555272396385954\n",
      "XGB_2: -0.11090972571640778\n",
      "XGB_3: -0.3858242680999189\n",
      "XGB_4: -0.22617314839119884\n"
     ]
    }
   ],
   "source": [
    "print('=== MSE ===')\n",
    "print('Benchmark:', mean_squared_error(valid[TARGET], valid['linear_pred']))\n",
    "print('NN_2:', mean_squared_error(valid[TARGET], valid['nn_2factors']))\n",
    "print('NN_3:', mean_squared_error(valid[TARGET], valid['nn_3factors']))\n",
    "print('NN_4:', mean_squared_error(valid[TARGET], valid['nn_4factors']))\n",
    "print('XGB_2:', mean_squared_error(valid[TARGET], valid['xgb2']))\n",
    "print('XGB_3:', mean_squared_error(valid[TARGET], valid['xgb3']))\n",
    "print('XGB_4:', mean_squared_error(valid[TARGET], valid['xgb4']))\n",
    "\n",
    "print('=== Gain over Benchmark ===')\n",
    "print('NN_2:', calculate_gain(valid, 'nn_2factors', 'linear_pred'))\n",
    "print('NN_3:', calculate_gain(valid, 'nn_3factors', 'linear_pred'))\n",
    "print('NN_4:', calculate_gain(valid, 'nn_4factors', 'linear_pred'))\n",
    "print('XGB_2:', calculate_gain(valid, 'xgb2', 'linear_pred'))\n",
    "print('XGB_3:', calculate_gain(valid, 'xgb3', 'linear_pred'))\n",
    "print('XGB_4:', calculate_gain(valid, 'xgb4', 'linear_pred'))\n",
    "print('=== R-Squared ===')\n",
    "\n",
    "print('Benchmark:', r_square(valid, 'linear_pred'))\n",
    "print('NN_2:', r_square(valid, 'nn_2factors'))\n",
    "print('NN_3:', r_square(valid, 'nn_3factors'))\n",
    "print('NN_4:', r_square(valid, 'nn_4factors'))\n",
    "print('XGB_2:', r_square(valid, 'xgb2'))\n",
    "print('XGB_3:', r_square(valid, 'xgb3'))\n",
    "print('XGB_4:', r_square(valid, 'xgb4'))"
   ]
  },
  {
   "cell_type": "markdown",
   "metadata": {},
   "source": [
    "# Redoing the Study "
   ]
  },
  {
   "cell_type": "code",
   "execution_count": 17,
   "metadata": {},
   "outputs": [],
   "source": [
    "FACTORS_2 = ['DELTA', 'SPY_LOG_RET']\n",
    "FACTORS_3 = ['DELTA', 'DTE', 'SPY_LOG_RET']\n",
    "FACTORS_4 = ['DELTA', 'DTE', 'SPY_LOG_RET', 'VIX']\n",
    "FACTORS_5 = ['DELTA', 'DTE', 'SPY_LOG_RET', 'VIX', 'IV']\n",
    "\n",
    "FACTORS_5_NOISE = FACTORS_5 + ['Noise']\n",
    "\n",
    "TARGET = 'IV_DELTA'"
   ]
  },
  {
   "cell_type": "code",
   "execution_count": 18,
   "metadata": {},
   "outputs": [],
   "source": [
    "def time_conscious_train_test_split(data: pd.DataFrame, train_size=0.7, test_size=0.2, grouping_col='QUOTE_DATE'):\n",
    "    import random\n",
    "    random.seed(42)\n",
    "    \n",
    "    grouped = [df for _, df in data.groupby(grouping_col)]\n",
    "\n",
    "    random.shuffle(grouped)\n",
    "    \n",
    "    \n",
    "    train_idx = int(len(grouped) * train_size)\n",
    "    test_idx = int(len(grouped) * (train_size+test_size))\n",
    "    \n",
    "\n",
    "    train = pd.concat(grouped[:train_idx])\n",
    "    test = pd.concat(grouped[train_idx:test_idx])\n",
    "    valid = pd.concat(grouped[test_idx:])\n",
    "    \n",
    "    return train, test, valid"
   ]
  },
  {
   "cell_type": "code",
   "execution_count": 19,
   "metadata": {},
   "outputs": [],
   "source": [
    "data = pd.read_parquet('datasets/option_dataset.parquet.gzip')\n",
    "data = data.dropna(subset=['SPY_LOG_RET', 'DELTA', 'DTE'])\n",
    "to_drop = pd.read_pickle('to_drop')\n",
    "data = data[~data.index.isin(to_drop)]\n",
    "data = data[data['DELTA'] > 0]\n",
    "\n",
    "data['Noise'] = np.random.normal(size=(len(data)))"
   ]
  },
  {
   "cell_type": "code",
   "execution_count": 20,
   "metadata": {},
   "outputs": [],
   "source": [
    "train, test, valid = time_conscious_train_test_split(data)"
   ]
  },
  {
   "cell_type": "code",
   "execution_count": 21,
   "metadata": {},
   "outputs": [],
   "source": [
    "import numpy as np\n",
    "\n",
    "def model_func(coeffs, spy_ret, delta, dtm, y):\n",
    "    a, b, c = coeffs\n",
    "    y_pred = spy_ret * (a + b*delta + c*delta**2) / np.sqrt(dtm)\n",
    "    return y_pred - y\n",
    "\n",
    "def predict_(coeffs, spy_ret, delta, dtm):\n",
    "    a, b, c = coeffs\n",
    "    return spy_ret * (a + b*delta + c*delta**2) / np.sqrt(dtm)\n",
    "\n",
    "from scipy.optimize import least_squares\n",
    "\n",
    "# Initial guess for coefficients\n",
    "initial_guess = [1.0, 1.0, 1.0]\n",
    "\n",
    "# Data\n",
    "spy_ret = train['SPY_LOG_RET'].to_numpy() # array of x1 values\n",
    "delta = train['DELTA'].to_numpy()  # array of x2 values\n",
    "dtm = train['DTE'].to_numpy()  # array of x3 values\n",
    "y = train[TARGET].to_numpy()    # array of corresponding y values\n",
    "\n",
    "# Perform optimization\n",
    "result = least_squares(model_func, initial_guess, args=(spy_ret, delta, dtm, y))\n",
    "COEFS = result['x']\n",
    "train['linear_pred'] = predict_(COEFS, train['SPY_LOG_RET'], train['DELTA'], train['DTE'])\n",
    "test['linear_pred'] = predict_(COEFS, test['SPY_LOG_RET'], test['DELTA'], test['DTE'])\n",
    "valid['linear_pred'] = predict_(COEFS, valid['SPY_LOG_RET'], valid['DELTA'], valid['DTE'])"
   ]
  },
  {
   "cell_type": "code",
   "execution_count": 22,
   "metadata": {},
   "outputs": [],
   "source": [
    "# std scaling\n",
    "from sklearn.preprocessing import StandardScaler\n",
    "\n",
    "sclr = StandardScaler()\n",
    "\n",
    "train[FACTORS_5] = sclr.fit_transform(train[FACTORS_5])\n",
    "test[FACTORS_5] = sclr.transform(test[FACTORS_5])\n",
    "valid[FACTORS_5] = sclr.transform(valid[FACTORS_5])"
   ]
  },
  {
   "cell_type": "code",
   "execution_count": 23,
   "metadata": {},
   "outputs": [],
   "source": [
    "# read_saved data\n",
    "# train = pd.read_pickle('our_approach_dataframes/train.pkl')\n",
    "# test = pd.read_pickle('our_approach_dataframes/test.pkl')\n",
    "# valid = pd.read_pickle('our_approach_dataframes/valid.pkl')\n"
   ]
  },
  {
   "cell_type": "code",
   "execution_count": 24,
   "metadata": {},
   "outputs": [
    {
     "name": "stdout",
     "output_type": "stream",
     "text": [
      "Epoch_1 Train_loss: 0.007757644865934605, Val_loss: 0.0006636863690800965\n",
      "Epoch_2 Train_loss: 0.00323299096678692, Val_loss: 0.00033316624467261136\n",
      "Epoch_3 Train_loss: 0.0016863039229795174, Val_loss: 0.00019843112386297435\n",
      "Epoch_4 Train_loss: 0.000867108455558714, Val_loss: 0.00013374126865528524\n",
      "Epoch_5 Train_loss: 0.00044414881615491476, Val_loss: 0.00010526692494750023\n",
      "Epoch_6 Train_loss: 0.00025344202068323105, Val_loss: 9.631869761506096e-05\n",
      "Epoch_7 Train_loss: 0.0001676008406311192, Val_loss: 9.276444325223565e-05\n",
      "Epoch_8 Train_loss: 0.00013049783314384193, Val_loss: 9.110727842198685e-05\n",
      "Epoch_9 Train_loss: 0.00011459544381352354, Val_loss: 9.115697321249172e-05\n",
      "Epoch_10 Train_loss: 0.00010737642890420645, Val_loss: 9.06398199731484e-05\n",
      "Epoch_11 Train_loss: 0.00010395058947589528, Val_loss: 8.992374205263332e-05\n",
      "Epoch_12 Train_loss: 0.0001020249408454776, Val_loss: 9.014122042572126e-05\n",
      "Epoch_13 Train_loss: 0.00010142480101387606, Val_loss: 8.980821439763531e-05\n",
      "Epoch_14 Train_loss: 0.00010076449624971131, Val_loss: 9.107045480050147e-05\n",
      "Epoch_15 Train_loss: 0.00010062050305728517, Val_loss: 9.052016685018316e-05\n",
      "Early stopping at epoch 16\n"
     ]
    }
   ],
   "source": [
    "from torch import nn\n",
    "\n",
    "params = {\n",
    "    'depth': 2,\n",
    "    'width': 30,\n",
    "    'learning_rate': 0.00001,\n",
    "    'batchnorm': False,\n",
    "    'drop_out_rate': 0.05,\n",
    "    'batch_size': 512,\n",
    "    'activation_fn': nn.ReLU,\n",
    "    'n_epochs': 500,\n",
    "    'early_stopping_rounds': 3,\n",
    "    'device': 'cpu',\n",
    "    'scheduler_rate': 0.995\n",
    "}\n",
    "\n",
    "\n",
    "nn_2 = PytorchRegressor(**params)\n",
    "\n",
    "\n",
    "nn_2.fit(train[FACTORS_2].to_numpy(), train[TARGET].to_numpy(), eval_set=[(test[FACTORS_2].to_numpy(), test[TARGET].to_numpy())])\n",
    "pd.to_pickle(nn_2, '2feature.model')\n",
    "train['nn_2factors'] = nn_2.predict(train[FACTORS_2].to_numpy())\n",
    "test['nn_2factors'] = nn_2.predict(test[FACTORS_2].to_numpy())\n",
    "valid['nn_2factors'] = nn_2.predict(valid[FACTORS_2].to_numpy())"
   ]
  },
  {
   "cell_type": "code",
   "execution_count": 25,
   "metadata": {},
   "outputs": [
    {
     "name": "stdout",
     "output_type": "stream",
     "text": [
      "Epoch_1 Train_loss: 0.017409098604646, Val_loss: 0.0012488754000514746\n",
      "Epoch_2 Train_loss: 0.0019117030239364375, Val_loss: 0.00033515688846819103\n",
      "Epoch_3 Train_loss: 0.0009377801473691733, Val_loss: 0.0001763304608175531\n",
      "Epoch_4 Train_loss: 0.0004949240248388393, Val_loss: 0.00012045912444591522\n",
      "Epoch_5 Train_loss: 0.0002753986586100526, Val_loss: 0.00010155294148717076\n",
      "Epoch_6 Train_loss: 0.00017379610764682715, Val_loss: 9.454960672883317e-05\n",
      "Epoch_7 Train_loss: 0.0001292004853516519, Val_loss: 9.079644951270893e-05\n",
      "Epoch_8 Train_loss: 0.00011447014963255839, Val_loss: 8.950163464760408e-05\n",
      "Epoch_9 Train_loss: 0.00010874495883454602, Val_loss: 8.91812305781059e-05\n",
      "Epoch_10 Train_loss: 0.00010685585040593429, Val_loss: 8.853438339428976e-05\n",
      "Epoch_11 Train_loss: 0.00010549652179473101, Val_loss: 8.920398249756545e-05\n",
      "Epoch_12 Train_loss: 0.00010475069280570665, Val_loss: 8.859909576131031e-05\n",
      "Epoch_13 Train_loss: 0.00010383598163989601, Val_loss: 8.89654693310149e-05\n",
      "Early stopping at epoch 14\n"
     ]
    }
   ],
   "source": [
    "from torch import nn\n",
    "\n",
    "params = {\n",
    "    'depth': 2,\n",
    "    'width': 30,\n",
    "    'learning_rate': 0.00001,\n",
    "    'batchnorm': False,\n",
    "    'drop_out_rate': 0.05,\n",
    "    'batch_size': 512,\n",
    "    'activation_fn': nn.ReLU,\n",
    "    'n_epochs': 500,\n",
    "    'early_stopping_rounds': 4,\n",
    "    'device': 'cpu',\n",
    "    'scheduler_rate': 0.995\n",
    "}\n",
    "\n",
    "\n",
    "nn_3 = PytorchRegressor(**params)\n",
    "nn_3.fit(train[FACTORS_3].to_numpy(), train[TARGET].to_numpy(), eval_set=[(test[FACTORS_3].to_numpy(), test[TARGET].to_numpy())])\n",
    "train['nn_3factors'] = nn_3.predict(train[FACTORS_3].to_numpy())\n",
    "test['nn_3factors'] = nn_3.predict(test[FACTORS_3].to_numpy())\n",
    "valid['nn_3factors'] = nn_3.predict(valid[FACTORS_3].to_numpy())"
   ]
  },
  {
   "cell_type": "code",
   "execution_count": 26,
   "metadata": {},
   "outputs": [
    {
     "name": "stdout",
     "output_type": "stream",
     "text": [
      "Epoch_1 Train_loss: 0.03901787784081669, Val_loss: 0.002672741189599037\n",
      "Epoch_2 Train_loss: 0.0032789474984452577, Val_loss: 0.0006452507223002613\n",
      "Epoch_3 Train_loss: 0.0016615517715294606, Val_loss: 0.00031707316520623863\n",
      "Epoch_4 Train_loss: 0.0009645018438580317, Val_loss: 0.00020580070849973708\n",
      "Epoch_5 Train_loss: 0.0005758726176679401, Val_loss: 0.00015505538613069803\n",
      "Epoch_6 Train_loss: 0.000350977764914773, Val_loss: 0.0001263539306819439\n",
      "Epoch_7 Train_loss: 0.00023125562738760642, Val_loss: 0.0001107528296415694\n",
      "Epoch_8 Train_loss: 0.0001696499867986941, Val_loss: 0.00010288564226357266\n",
      "Epoch_9 Train_loss: 0.00013860139538302254, Val_loss: 9.757895168149844e-05\n",
      "Epoch_10 Train_loss: 0.00012065026997608727, Val_loss: 9.519299783278257e-05\n",
      "Epoch_11 Train_loss: 0.00011246406090882476, Val_loss: 9.319349192082882e-05\n",
      "Epoch_12 Train_loss: 0.00010705692382648132, Val_loss: 9.304298146162182e-05\n",
      "Epoch_13 Train_loss: 0.00010440843830269689, Val_loss: 9.242240048479289e-05\n",
      "Epoch_14 Train_loss: 0.00010285891434066278, Val_loss: 9.118637535721064e-05\n",
      "Epoch_15 Train_loss: 0.00010164981886856562, Val_loss: 9.10414892132394e-05\n"
     ]
    }
   ],
   "source": [
    "from torch import nn\n",
    "\n",
    "params = {\n",
    "    'depth': 2,\n",
    "    'width': 30,\n",
    "    'learning_rate': 0.00001,\n",
    "    'batchnorm': False,\n",
    "    'drop_out_rate': 0.05,\n",
    "    'batch_size': 512,\n",
    "    'activation_fn': nn.ReLU,\n",
    "    'n_epochs': 15,\n",
    "    'early_stopping_rounds': 3,\n",
    "    'device': 'cpu',\n",
    "    'scheduler_rate': 0.995\n",
    "}\n",
    "\n",
    "\n",
    "nn_4 = PytorchRegressor(**params)\n",
    "nn_4.fit(train[FACTORS_4].to_numpy(), train[TARGET].to_numpy(), eval_set=[(test[FACTORS_4].to_numpy(), test[TARGET].to_numpy())])\n",
    "train['nn_4factors'] = nn_4.predict(train[FACTORS_4].to_numpy())\n",
    "test['nn_4factors'] = nn_4.predict(test[FACTORS_4].to_numpy())\n",
    "valid['nn_4factors'] = nn_4.predict(valid[FACTORS_4].to_numpy())"
   ]
  },
  {
   "cell_type": "code",
   "execution_count": 27,
   "metadata": {},
   "outputs": [
    {
     "name": "stdout",
     "output_type": "stream",
     "text": [
      "Epoch_1 Train_loss: 0.004654298990980529, Val_loss: 0.0008006913121789694\n",
      "Epoch_2 Train_loss: 0.0016500572228309517, Val_loss: 0.00035930308513343334\n",
      "Epoch_3 Train_loss: 0.0008955323768415678, Val_loss: 0.00022568208805751055\n",
      "Epoch_4 Train_loss: 0.0004927752003699099, Val_loss: 0.00014875222404953092\n",
      "Epoch_5 Train_loss: 0.00027523563682892914, Val_loss: 0.00011371700384188443\n",
      "Epoch_6 Train_loss: 0.00017093473715193113, Val_loss: 9.910616063280031e-05\n",
      "Epoch_7 Train_loss: 0.00012751707598598596, Val_loss: 9.261692321160808e-05\n",
      "Epoch_8 Train_loss: 0.00010997391214426822, Val_loss: 8.921009430196136e-05\n",
      "Epoch_9 Train_loss: 0.00010421089284950632, Val_loss: 8.798189082881436e-05\n",
      "Epoch_10 Train_loss: 0.00010158872863330837, Val_loss: 8.77962083905004e-05\n",
      "Epoch_11 Train_loss: 0.00010038934830560914, Val_loss: 8.720598270883784e-05\n",
      "Epoch_12 Train_loss: 9.984062302247632e-05, Val_loss: 8.708900713827461e-05\n",
      "Epoch_13 Train_loss: 9.970767531232848e-05, Val_loss: 8.632060053059831e-05\n",
      "Epoch_14 Train_loss: 9.934313732013205e-05, Val_loss: 8.638874714961275e-05\n",
      "Epoch_15 Train_loss: 9.902448705346184e-05, Val_loss: 8.642725879326463e-05\n"
     ]
    }
   ],
   "source": [
    "from torch import nn\n",
    "\n",
    "params = {\n",
    "    'depth': 2,\n",
    "    'width': 30,\n",
    "    'learning_rate': 0.00001,\n",
    "    'batchnorm': False,\n",
    "    'drop_out_rate': 0.05,\n",
    "    'batch_size': 512,\n",
    "    'activation_fn': nn.ReLU,\n",
    "    'n_epochs': 15,\n",
    "    'early_stopping_rounds': 3,\n",
    "    'device': 'cpu',\n",
    "    'scheduler_rate': 0.995\n",
    "}\n",
    "\n",
    "\n",
    "nn_4 = PytorchRegressor(**params)\n",
    "nn_4.fit(train[FACTORS_5].to_numpy(), train[TARGET].to_numpy(), eval_set=[(test[FACTORS_5].to_numpy(), test[TARGET].to_numpy())])\n",
    "train['nn_5factors'] = nn_4.predict(train[FACTORS_5].to_numpy())\n",
    "test['nn_5factors'] = nn_4.predict(test[FACTORS_5].to_numpy())\n",
    "valid['nn_5factors'] = nn_4.predict(valid[FACTORS_5].to_numpy())"
   ]
  },
  {
   "cell_type": "code",
   "execution_count": 28,
   "metadata": {},
   "outputs": [
    {
     "name": "stderr",
     "output_type": "stream",
     "text": [
      "[I 2024-05-30 22:02:34,156] A new study created in memory with name: no-name-1abc2569-ef0f-428e-998e-380326d23365\n",
      "[I 2024-05-30 22:02:38,943] Trial 0 finished with value: 0.00010228530556271688 and parameters: {'colsample_bytree': 0.48988865457726405, 'learning_rate': 0.020327633895693344, 'max_depth': 41, 'subsample': 0.5519738013626452, 'gamma': 0.7886292530241117, 'reg_lambda': 0.1297742761005485, 'reg_alpha': 0.005818927003270262, 'min_child_weight': 35.675824436235956}. Best is trial 0 with value: 0.00010228530556271688.\n"
     ]
    },
    {
     "name": "stdout",
     "output_type": "stream",
     "text": [
      "[1.09251970e-04 1.09561870e-04 1.03182365e-04 8.71450171e-05]\n"
     ]
    },
    {
     "name": "stderr",
     "output_type": "stream",
     "text": [
      "[I 2024-05-30 22:02:43,484] Trial 1 finished with value: 0.00010234530351676342 and parameters: {'colsample_bytree': 0.5419582535699933, 'learning_rate': 0.00018411929754646487, 'max_depth': 10, 'subsample': 0.18997284199519887, 'gamma': 0.5044014678418419, 'reg_lambda': 6.049195207588254e-06, 'reg_alpha': 0.0035215852155623503, 'min_child_weight': 25.916026737245485}. Best is trial 0 with value: 0.00010228530556271688.\n"
     ]
    },
    {
     "name": "stdout",
     "output_type": "stream",
     "text": [
      "[1.09264543e-04 1.09561293e-04 1.03378871e-04 8.71765074e-05]\n"
     ]
    },
    {
     "name": "stderr",
     "output_type": "stream",
     "text": [
      "[I 2024-05-30 22:02:47,807] Trial 2 finished with value: 0.00010083577223966785 and parameters: {'colsample_bytree': 0.35869552505187774, 'learning_rate': 0.0051829736623761665, 'max_depth': 7, 'subsample': 0.9281269593732456, 'gamma': 0.5231295973916321, 'reg_lambda': 0.06306878893112836, 'reg_alpha': 0.03049657306734047, 'min_child_weight': 2.3107694260160017}. Best is trial 2 with value: 0.00010083577223966785.\n"
     ]
    },
    {
     "name": "stdout",
     "output_type": "stream",
     "text": [
      "[1.08223700e-04 1.07035373e-04 1.01073835e-04 8.70101816e-05]\n"
     ]
    },
    {
     "name": "stderr",
     "output_type": "stream",
     "text": [
      "[I 2024-05-30 22:02:50,595] Trial 3 pruned. \n",
      "[I 2024-05-30 22:02:55,520] Trial 4 finished with value: 0.00010234524500671276 and parameters: {'colsample_bytree': 0.7076017190878485, 'learning_rate': 1.1533788079618927e-05, 'max_depth': 41, 'subsample': 0.2310415990368394, 'gamma': 0.9228173142538264, 'reg_lambda': 0.00011757369104104987, 'reg_alpha': 0.002429654394427902, 'min_child_weight': 35.47529938057395}. Best is trial 2 with value: 0.00010083577223966785.\n"
     ]
    },
    {
     "name": "stdout",
     "output_type": "stream",
     "text": [
      "[1.09264487e-04 1.09561260e-04 1.03378829e-04 8.71764040e-05]\n"
     ]
    },
    {
     "name": "stderr",
     "output_type": "stream",
     "text": [
      "[I 2024-05-30 22:03:00,146] Trial 5 pruned. \n",
      "[I 2024-05-30 22:03:05,046] Trial 6 pruned. \n",
      "[I 2024-05-30 22:03:10,547] Trial 7 pruned. \n",
      "[I 2024-05-30 22:03:13,271] Trial 8 pruned. \n",
      "[I 2024-05-30 22:03:18,624] Trial 9 finished with value: 0.00010192409694749042 and parameters: {'colsample_bytree': 0.6632575728947699, 'learning_rate': 0.00034165960865903123, 'max_depth': 26, 'subsample': 0.5315627897260086, 'gamma': 0.291008811284735, 'reg_lambda': 6.0444336336719115e-05, 'reg_alpha': 0.042670123455643964, 'min_child_weight': 14.989696185925641}. Best is trial 2 with value: 0.00010083577223966785.\n"
     ]
    },
    {
     "name": "stdout",
     "output_type": "stream",
     "text": [
      "[1.08699942e-04 1.08993928e-04 1.02861806e-04 8.71407112e-05]\n"
     ]
    },
    {
     "name": "stderr",
     "output_type": "stream",
     "text": [
      "[I 2024-05-30 22:03:23,545] Trial 10 finished with value: 0.00010165543902837369 and parameters: {'colsample_bytree': 0.15481702447597423, 'learning_rate': 0.0022284848227545687, 'max_depth': 49, 'subsample': 0.9499063426042352, 'gamma': 0.5838668155021624, 'reg_lambda': 1.0899084563231121e-08, 'reg_alpha': 1.67163160520494, 'min_child_weight': 0.8475533111664832}. Best is trial 2 with value: 0.00010083577223966785.\n"
     ]
    },
    {
     "name": "stdout",
     "output_type": "stream",
     "text": [
      "[1.09230583e-04 1.08170121e-04 1.02151437e-04 8.70696149e-05]\n"
     ]
    },
    {
     "name": "stderr",
     "output_type": "stream",
     "text": [
      "[I 2024-05-30 22:03:27,893] Trial 11 pruned. \n",
      "[I 2024-05-30 22:03:30,376] Trial 12 pruned. \n",
      "[I 2024-05-30 22:03:35,204] Trial 13 pruned. \n",
      "[I 2024-05-30 22:03:37,721] Trial 14 pruned. \n",
      "[I 2024-05-30 22:03:42,066] Trial 15 pruned. \n",
      "[I 2024-05-30 22:03:44,846] Trial 16 pruned. \n",
      "[I 2024-05-30 22:03:49,564] Trial 17 pruned. \n",
      "[I 2024-05-30 22:03:52,654] Trial 18 pruned. \n",
      "[I 2024-05-30 22:03:57,307] Trial 19 pruned. \n",
      "[I 2024-05-30 22:04:02,032] Trial 20 pruned. \n",
      "[I 2024-05-30 22:04:06,910] Trial 21 pruned. \n",
      "[I 2024-05-30 22:04:09,886] Trial 22 pruned. \n",
      "[I 2024-05-30 22:04:14,817] Trial 23 pruned. \n",
      "[I 2024-05-30 22:04:19,538] Trial 24 finished with value: 0.00010065364696246865 and parameters: {'colsample_bytree': 0.626575001375156, 'learning_rate': 0.002943108453380367, 'max_depth': 28, 'subsample': 0.8728313948755602, 'gamma': 0.49880338534770874, 'reg_lambda': 0.0005609430992480696, 'reg_alpha': 0.0012431212356555864, 'min_child_weight': 31.150131833197765}. Best is trial 24 with value: 0.00010065364696246865.\n"
     ]
    },
    {
     "name": "stdout",
     "output_type": "stream",
     "text": [
      "[1.08154791e-04 1.06851599e-04 1.00586012e-04 8.70221858e-05]\n"
     ]
    },
    {
     "name": "stderr",
     "output_type": "stream",
     "text": [
      "[I 2024-05-30 22:04:23,869] Trial 25 finished with value: 0.00010154861322483183 and parameters: {'colsample_bytree': 0.4694336907730513, 'learning_rate': 0.002248466929119693, 'max_depth': 35, 'subsample': 0.8697424513173502, 'gamma': 0.5706942143118336, 'reg_lambda': 0.00030146198412788687, 'reg_alpha': 0.0014552508423140778, 'min_child_weight': 32.59875482832922}. Best is trial 24 with value: 0.00010065364696246865.\n"
     ]
    },
    {
     "name": "stdout",
     "output_type": "stream",
     "text": [
      "[1.08948174e-04 1.08084209e-04 1.02093890e-04 8.70681803e-05]\n"
     ]
    },
    {
     "name": "stderr",
     "output_type": "stream",
     "text": [
      "[I 2024-05-30 22:04:28,219] Trial 26 pruned. \n",
      "[I 2024-05-30 22:04:32,903] Trial 27 finished with value: 0.00010081924753492855 and parameters: {'colsample_bytree': 0.4764992087364291, 'learning_rate': 0.038927367377581415, 'max_depth': 36, 'subsample': 0.7253966705505557, 'gamma': 0.49815603471223674, 'reg_lambda': 0.003508275499389548, 'reg_alpha': 6.062564857665202e-05, 'min_child_weight': 32.13002205797372}. Best is trial 24 with value: 0.00010065364696246865.\n"
     ]
    },
    {
     "name": "stdout",
     "output_type": "stream",
     "text": [
      "[1.08150238e-04 1.07279931e-04 1.00827858e-04 8.70189632e-05]\n"
     ]
    },
    {
     "name": "stderr",
     "output_type": "stream",
     "text": [
      "[I 2024-05-30 22:04:37,440] Trial 28 finished with value: 0.00010045331602353505 and parameters: {'colsample_bytree': 0.5935087485496864, 'learning_rate': 0.0593335070673941, 'max_depth': 36, 'subsample': 0.7508908804679052, 'gamma': 0.4447375503691443, 'reg_lambda': 0.004752342224040866, 'reg_alpha': 4.068953099132846e-05, 'min_child_weight': 29.05673596292269}. Best is trial 28 with value: 0.00010045331602353505.\n"
     ]
    },
    {
     "name": "stdout",
     "output_type": "stream",
     "text": [
      "[1.07706598e-04 1.06734177e-04 1.00377484e-04 8.69950047e-05]\n"
     ]
    },
    {
     "name": "stderr",
     "output_type": "stream",
     "text": [
      "[I 2024-05-30 22:04:41,881] Trial 29 finished with value: 0.00010060297648282994 and parameters: {'colsample_bytree': 0.5923628894205972, 'learning_rate': 0.03823940739045442, 'max_depth': 38, 'subsample': 0.7104234015408676, 'gamma': 0.4645096338286714, 'reg_lambda': 0.003833907949504378, 'reg_alpha': 1.4331663787516688e-06, 'min_child_weight': 31.111755856090735}. Best is trial 28 with value: 0.00010045331602353505.\n"
     ]
    },
    {
     "name": "stdout",
     "output_type": "stream",
     "text": [
      "[1.08202271e-04 1.06800437e-04 1.00405274e-04 8.70039238e-05]\n"
     ]
    },
    {
     "name": "stderr",
     "output_type": "stream",
     "text": [
      "[I 2024-05-30 22:04:46,474] Trial 30 finished with value: 0.00010015694098037345 and parameters: {'colsample_bytree': 0.608246943059612, 'learning_rate': 0.04326960349348885, 'max_depth': 40, 'subsample': 0.6622180336134351, 'gamma': 0.3684217722909666, 'reg_lambda': 0.015210626558958865, 'reg_alpha': 2.0524974502362008e-06, 'min_child_weight': 30.287236170089415}. Best is trial 30 with value: 0.00010015694098037345.\n"
     ]
    },
    {
     "name": "stdout",
     "output_type": "stream",
     "text": [
      "[1.07428979e-04 1.05948534e-04 1.00259804e-04 8.69904465e-05]\n"
     ]
    },
    {
     "name": "stderr",
     "output_type": "stream",
     "text": [
      "[I 2024-05-30 22:04:50,737] Trial 31 finished with value: 0.00010028875540635546 and parameters: {'colsample_bytree': 0.58345837055973, 'learning_rate': 0.04525896305431927, 'max_depth': 40, 'subsample': 0.5983460473019202, 'gamma': 0.36346655598520294, 'reg_lambda': 0.01203279102095042, 'reg_alpha': 1.6128306092727785e-06, 'min_child_weight': 30.537562014001914}. Best is trial 30 with value: 0.00010015694098037345.\n"
     ]
    },
    {
     "name": "stdout",
     "output_type": "stream",
     "text": [
      "[1.07348999e-04 1.06437014e-04 1.00366882e-04 8.70021264e-05]\n"
     ]
    },
    {
     "name": "stderr",
     "output_type": "stream",
     "text": [
      "[I 2024-05-30 22:04:55,041] Trial 32 finished with value: 0.00010027948395463954 and parameters: {'colsample_bytree': 0.562084412697879, 'learning_rate': 0.04378443982463671, 'max_depth': 38, 'subsample': 0.6047137692737231, 'gamma': 0.37446420705798705, 'reg_lambda': 0.011606325411073731, 'reg_alpha': 1.2188545217246777e-06, 'min_child_weight': 29.332989827741034}. Best is trial 30 with value: 0.00010015694098037345.\n"
     ]
    },
    {
     "name": "stdout",
     "output_type": "stream",
     "text": [
      "[1.07320568e-04 1.06506665e-04 1.00291273e-04 8.69994305e-05]\n"
     ]
    },
    {
     "name": "stderr",
     "output_type": "stream",
     "text": [
      "[I 2024-05-30 22:04:59,489] Trial 33 finished with value: 0.00010014842976890866 and parameters: {'colsample_bytree': 0.5386754462610863, 'learning_rate': 0.057453375144400895, 'max_depth': 44, 'subsample': 0.6109190980028639, 'gamma': 0.3580842496864414, 'reg_lambda': 0.01716086086349366, 'reg_alpha': 1.2003844291040232e-06, 'min_child_weight': 23.394957372475503}. Best is trial 33 with value: 0.00010014842976890866.\n"
     ]
    },
    {
     "name": "stdout",
     "output_type": "stream",
     "text": [
      "[1.06893108e-04 1.06470198e-04 1.00241258e-04 8.69891553e-05]\n"
     ]
    },
    {
     "name": "stderr",
     "output_type": "stream",
     "text": [
      "[I 2024-05-30 22:05:03,791] Trial 34 finished with value: 0.00010034941047868924 and parameters: {'colsample_bytree': 0.5427043484164273, 'learning_rate': 0.023285685823221627, 'max_depth': 44, 'subsample': 0.5904494321418218, 'gamma': 0.3648825474699394, 'reg_lambda': 0.501731636945189, 'reg_alpha': 1.0888723485434683e-06, 'min_child_weight': 24.057540323688595}. Best is trial 33 with value: 0.00010014842976890866.\n"
     ]
    },
    {
     "name": "stdout",
     "output_type": "stream",
     "text": [
      "[1.07324176e-04 1.06795685e-04 1.00262683e-04 8.70150986e-05]\n"
     ]
    },
    {
     "name": "stderr",
     "output_type": "stream",
     "text": [
      "[I 2024-05-30 22:05:08,337] Trial 35 pruned. \n",
      "[I 2024-05-30 22:05:12,701] Trial 36 finished with value: 9.984583363101326e-05 and parameters: {'colsample_bytree': 0.5108527376268119, 'learning_rate': 0.04482929165834802, 'max_depth': 43, 'subsample': 0.5993685283221023, 'gamma': 0.32126042356559387, 'reg_lambda': 0.23851432640216713, 'reg_alpha': 1.9845219351789036e-07, 'min_child_weight': 24.536198332934976}. Best is trial 36 with value: 9.984583363101326e-05.\n"
     ]
    },
    {
     "name": "stdout",
     "output_type": "stream",
     "text": [
      "[1.06415485e-04 1.05871580e-04 1.00117285e-04 8.69789839e-05]\n"
     ]
    },
    {
     "name": "stderr",
     "output_type": "stream",
     "text": [
      "[I 2024-05-30 22:05:16,998] Trial 37 finished with value: 9.909610524469215e-05 and parameters: {'colsample_bytree': 0.5213073070681346, 'learning_rate': 0.027610137773170028, 'max_depth': 45, 'subsample': 0.40095853242652413, 'gamma': 0.1748258320575114, 'reg_lambda': 0.30358327650996325, 'reg_alpha': 2.3190410114992092e-07, 'min_child_weight': 24.18654559616637}. Best is trial 37 with value: 9.909610524469215e-05.\n"
     ]
    },
    {
     "name": "stdout",
     "output_type": "stream",
     "text": [
      "[1.05524475e-04 1.04236809e-04 9.96475402e-05 8.69755964e-05]\n"
     ]
    },
    {
     "name": "stderr",
     "output_type": "stream",
     "text": [
      "[I 2024-05-30 22:05:21,317] Trial 38 pruned. \n",
      "[I 2024-05-30 22:05:25,696] Trial 39 pruned. \n"
     ]
    }
   ],
   "source": [
    "pruner = optuna.pruners.HyperbandPruner()\n",
    "\n",
    "study = optuna.create_study(direction='minimize', pruner=pruner)\n",
    "obj = Objective(pd.concat([train, test]), TARGET, FACTORS_4, 4)\n",
    "study.optimize(obj, n_trials=40)\n",
    "\n",
    "best_params = study.best_params\n",
    "best_params['n_estimators'] = 300"
   ]
  },
  {
   "cell_type": "code",
   "execution_count": 29,
   "metadata": {},
   "outputs": [],
   "source": [
    "from xgboost import XGBRegressor\n",
    "\n",
    "model2 = XGBRegressor(**best_params)\n",
    "model2.fit(train[FACTORS_2], train[TARGET])\n",
    "train['xgb2'] = model2.predict(train[FACTORS_2])\n",
    "test['xgb2'] = model2.predict(test[FACTORS_2])\n",
    "valid['xgb2'] = model2.predict(valid[FACTORS_2])\n",
    "\n",
    "\n",
    "model3 = XGBRegressor(**best_params)\n",
    "model3.fit(train[FACTORS_3], train[TARGET])\n",
    "train['xgb3'] = model3.predict(train[FACTORS_3])\n",
    "test['xgb3'] = model3.predict(test[FACTORS_3])\n",
    "valid['xgb3'] = model3.predict(valid[FACTORS_3])\n",
    "\n",
    "model4 = XGBRegressor(**best_params)\n",
    "model4.fit(train[FACTORS_4], train[TARGET])\n",
    "train['xgb4'] = model4.predict(train[FACTORS_4])\n",
    "test['xgb4'] = model4.predict(test[FACTORS_4])\n",
    "valid['xgb4'] = model4.predict(valid[FACTORS_4])\n",
    "\n",
    "model5 = XGBRegressor(**best_params)\n",
    "model5.fit(train[FACTORS_5], train[TARGET])\n",
    "train['xgb5'] = model5.predict(train[FACTORS_5])\n",
    "test['xgb5'] = model5.predict(test[FACTORS_5])\n",
    "valid['xgb5'] = model5.predict(valid[FACTORS_5])"
   ]
  },
  {
   "cell_type": "code",
   "execution_count": 32,
   "metadata": {},
   "outputs": [
    {
     "data": {
      "image/png": "[encoded data removed]",
      "text/plain": [
       "<Figure size 1200x800 with 1 Axes>"
      ]
     },
     "metadata": {},
     "output_type": "display_data"
    }
   ],
   "source": [
    "model5 = XGBRegressor(**best_params)\n",
    "\n",
    "model5.fit(train[FACTORS_5_NOISE], train[TARGET])\n",
    "train['xgb_noise'] = model5.predict(train[FACTORS_5_NOISE])\n",
    "test['xgb_noise'] = model5.predict(test[FACTORS_5_NOISE])\n",
    "valid['xgb_noise'] = model5.predict(valid[FACTORS_5_NOISE])\n",
    "\n",
    "plot_importance(model5, FACTORS_5_NOISE)"
   ]
  },
  {
   "cell_type": "markdown",
   "metadata": {},
   "source": [
    "### Test Set"
   ]
  },
  {
   "cell_type": "code",
   "execution_count": 38,
   "metadata": {},
   "outputs": [
    {
     "name": "stdout",
     "output_type": "stream",
     "text": [
      "=== MSE ===\n",
      "Benchmark: 8.9823156924106e-05\n",
      "NN_2: 9.037207366749563e-05\n",
      "NN_3: 8.923161204611769e-05\n",
      "NN_4: 9.104148572746126e-05\n",
      "XGB_2: 9.837229124328582e-05\n",
      "XGB_3: 9.789344633369062e-05\n",
      "XGB_4: 9.949134038751856e-05\n",
      "XGB_5: 0.00010007129996205252\n",
      "\n",
      "=== Gain over Benchmark ===\n",
      "NN_2: -0.006111082733970541\n",
      "NN_3: 0.006585661184098979\n",
      "NN_4: -0.013563638209517226\n",
      "XGB_2: -0.0951773975880541\n",
      "XGB_3: -0.08984642363887763\n",
      "XGB_4: -0.1076357566855668\n",
      "XGB_5: -0.11409243884186182\n",
      "\n",
      "=== R-Squared ===\n",
      "Benchmark: 0.02176693989035594\n",
      "NN_2: 0.015788876726920753\n",
      "NN_3: 0.02820925138332242\n",
      "NN_4: 0.008498540578439906\n",
      "XGB_2: -0.07133873700547855\n",
      "XGB_3: -0.06612380204581081\n",
      "XGB_4: -0.08352591574938306\n",
      "XGB_5: -0.08984205569329085\n"
     ]
    }
   ],
   "source": [
    "print('=== MSE ===')\n",
    "print('Benchmark:', mean_squared_error(test[TARGET], test['linear_pred']))\n",
    "print('NN_2:', mean_squared_error(test[TARGET], test['nn_2factors']))\n",
    "print('NN_3:', mean_squared_error(test[TARGET], test['nn_3factors']))\n",
    "print('NN_4:', mean_squared_error(test[TARGET], test['nn_4factors']))\n",
    "print('XGB_2:', mean_squared_error(test[TARGET], test['xgb2']))\n",
    "print('XGB_3:', mean_squared_error(test[TARGET], test['xgb3']))\n",
    "print('XGB_4:', mean_squared_error(test[TARGET], test['xgb4']))\n",
    "print('XGB_5:', mean_squared_error(test[TARGET], test['xgb5']))\n",
    "print('\\n=== Gain over Benchmark ===')\n",
    "print('NN_2:', calculate_gain(test, 'nn_2factors', 'linear_pred'))\n",
    "print('NN_3:', calculate_gain(test, 'nn_3factors', 'linear_pred'))\n",
    "print('NN_4:', calculate_gain(test, 'nn_4factors', 'linear_pred'))\n",
    "print('XGB_2:', calculate_gain(test, 'xgb2', 'linear_pred'))\n",
    "print('XGB_3:', calculate_gain(test, 'xgb3', 'linear_pred'))\n",
    "print('XGB_4:', calculate_gain(test, 'xgb4', 'linear_pred'))\n",
    "print('XGB_5:', calculate_gain(test, 'xgb5', 'linear_pred'))\n",
    "print('\\n=== R-Squared ===')\n",
    "print('Benchmark:', r_square(test, 'linear_pred'))\n",
    "print('NN_2:', r_square(test, 'nn_2factors'))\n",
    "print('NN_3:', r_square(test, 'nn_3factors'))\n",
    "print('NN_4:', r_square(test, 'nn_4factors'))\n",
    "print('XGB_2:', r_square(test, 'xgb2'))\n",
    "print('XGB_3:', r_square(test, 'xgb3'))\n",
    "print('XGB_4:', r_square(test, 'xgb4'))\n",
    "print('XGB_5:', r_square(test, 'xgb5'))"
   ]
  },
  {
   "cell_type": "markdown",
   "metadata": {},
   "source": [
    "### Validation Set"
   ]
  },
  {
   "cell_type": "code",
   "execution_count": 40,
   "metadata": {},
   "outputs": [
    {
     "name": "stdout",
     "output_type": "stream",
     "text": [
      "=== MSE ===\n",
      "Benchmark: 8.243400108011296e-05\n",
      "NN_2: 8.159715598180637e-05\n",
      "NN_3: 8.116806262756494e-05\n",
      "NN_4: 8.344503448476743e-05\n",
      "XGB_2: 8.243546847672563e-05\n",
      "XGB_3: 8.242894677783603e-05\n",
      "XGB_4: 8.307523611821724e-05\n",
      "XGB_5: 8.31922228843068e-05\n",
      "\n",
      "=== Gain over Benchmark ===\n",
      "NN_2: 0.010151698174801771\n",
      "NN_3: 0.015356993909803385\n",
      "NN_4: -0.012264762008481256\n",
      "XGB_2: -1.7800866067840815e-05\n",
      "XGB_3: 6.131331987657695e-05\n",
      "XGB_4: -0.00777876882963735\n",
      "XGB_5: -0.009197925543574792\n",
      "\n",
      "=== R-Squared ===\n",
      "Benchmark: 0.0025167550165288155\n",
      "NN_2 0.01264290385402278\n",
      "NN_3: 0.017835099134870913\n",
      "NN_4: -0.009717139590641022\n",
      "XGB_2: 0.002498998950879905\n",
      "XGB_3: 0.0025779140257999877\n",
      "XGB_4: -0.0052424365576342336\n",
      "XGB_5: -0.006658021601792408\n"
     ]
    }
   ],
   "source": [
    "print('=== MSE ===')\n",
    "print('Benchmark:', mean_squared_error(valid[TARGET], valid['linear_pred']))\n",
    "print('NN_2:', mean_squared_error(valid[TARGET], valid['nn_2factors']))\n",
    "print('NN_3:', mean_squared_error(valid[TARGET], valid['nn_3factors']))\n",
    "print('NN_4:', mean_squared_error(valid[TARGET], valid['nn_4factors']))\n",
    "print('XGB_2:', mean_squared_error(valid[TARGET], valid['xgb2']))\n",
    "print('XGB_3:', mean_squared_error(valid[TARGET], valid['xgb3']))\n",
    "print('XGB_4:', mean_squared_error(valid[TARGET], valid['xgb4']))\n",
    "print('XGB_5:', mean_squared_error(valid[TARGET], valid['xgb5']))\n",
    "print('\\n=== Gain over Benchmark ===')\n",
    "print('NN_2:', calculate_gain(valid, 'nn_2factors', 'linear_pred'))\n",
    "print('NN_3:', calculate_gain(valid, 'nn_3factors', 'linear_pred'))\n",
    "print('NN_4:', calculate_gain(valid, 'nn_4factors', 'linear_pred'))\n",
    "print('XGB_2:', calculate_gain(valid, 'xgb2', 'linear_pred'))\n",
    "print('XGB_3:', calculate_gain(valid, 'xgb3', 'linear_pred'))\n",
    "print('XGB_4:', calculate_gain(valid, 'xgb4', 'linear_pred'))\n",
    "print('XGB_5:', calculate_gain(valid, 'xgb5', 'linear_pred'))\n",
    "print('\\n=== R-Squared ===')\n",
    "print('Benchmark:', r_square(valid, 'linear_pred'))\n",
    "print('NN_2', r_square(valid, 'nn_2factors'))\n",
    "print('NN_3:', r_square(valid, 'nn_3factors'))\n",
    "print('NN_4:', r_square(valid, 'nn_4factors'))\n",
    "print('XGB_2:', r_square(valid, 'xgb2'))\n",
    "print('XGB_3:', r_square(valid, 'xgb3'))\n",
    "print('XGB_4:', r_square(valid, 'xgb4'))\n",
    "print('XGB_5:', r_square(valid, 'xgb5'))"
   ]
  },
  {
   "cell_type": "markdown",
   "metadata": {},
   "source": [
    "# Predicting Log Returns"
   ]
  },
  {
   "cell_type": "code",
   "execution_count": 77,
   "metadata": {},
   "outputs": [],
   "source": [
    "TARGET = 'IV_LOG_RET'"
   ]
  },
  {
   "cell_type": "code",
   "execution_count": 42,
   "metadata": {},
   "outputs": [],
   "source": [
    "# train = pd.read_pickle('our_approach_dataframes/train.pkl')\n",
    "# test = pd.read_pickle('our_approach_dataframes/test.pkl')\n",
    "# valid = pd.read_pickle('our_approach_dataframes/valid.pkl')"
   ]
  },
  {
   "cell_type": "code",
   "execution_count": 43,
   "metadata": {},
   "outputs": [
    {
     "name": "stdout",
     "output_type": "stream",
     "text": [
      "Epoch_1 Train_loss: 0.018271841039301174, Val_loss: 0.003846060484647751\n",
      "Epoch_2 Train_loss: 0.005832166140761477, Val_loss: 0.003068742575123906\n",
      "Epoch_3 Train_loss: 0.004632066029596057, Val_loss: 0.0028235996142029762\n",
      "Epoch_4 Train_loss: 0.0039836568596922015, Val_loss: 0.0027510481886565685\n",
      "Epoch_5 Train_loss: 0.003617049789241328, Val_loss: 0.0027087898924946785\n",
      "Epoch_6 Train_loss: 0.003385698186970908, Val_loss: 0.0026959467213600874\n",
      "Epoch_7 Train_loss: 0.0032438551579692977, Val_loss: 0.002700720215216279\n",
      "Epoch_8 Train_loss: 0.003139395001310605, Val_loss: 0.002690077992156148\n",
      "Epoch_9 Train_loss: 0.0030714646999912324, Val_loss: 0.0026898181531578302\n",
      "Epoch_10 Train_loss: 0.0030294704875852966, Val_loss: 0.0026844502426683903\n",
      "Epoch_11 Train_loss: 0.0029999274011598505, Val_loss: 0.002683553844690323\n",
      "Epoch_12 Train_loss: 0.0029801219494900565, Val_loss: 0.0026856756303459406\n",
      "Epoch_13 Train_loss: 0.002965503881180825, Val_loss: 0.002684536390006542\n",
      "Early stopping at epoch 14\n"
     ]
    }
   ],
   "source": [
    "from torch import nn\n",
    "\n",
    "params = {\n",
    "    'depth': 2,\n",
    "    'width': 30,\n",
    "    'learning_rate': 0.00001,\n",
    "    'batchnorm': False,\n",
    "    'drop_out_rate': 0.05,\n",
    "    'batch_size': 512,\n",
    "    'activation_fn': nn.ReLU,\n",
    "    'n_epochs': 15,\n",
    "    'early_stopping_rounds': 3,\n",
    "    'device': 'cpu',\n",
    "    'scheduler_rate': 0.995\n",
    "}\n",
    "\n",
    "\n",
    "nn_4 = PytorchRegressor(**params)\n",
    "nn_4.fit(train[FACTORS_2].to_numpy(), train[TARGET].to_numpy(), eval_set=[(test[FACTORS_2].to_numpy(), test[TARGET].to_numpy())])\n",
    "train['nn2_logret'] = nn_4.predict(train[FACTORS_2].to_numpy())\n",
    "test['nn2_logret'] = nn_4.predict(test[FACTORS_2].to_numpy())\n",
    "valid['nn2_logret'] = nn_4.predict(valid[FACTORS_2 ].to_numpy())"
   ]
  },
  {
   "cell_type": "code",
   "execution_count": 44,
   "metadata": {},
   "outputs": [
    {
     "name": "stdout",
     "output_type": "stream",
     "text": [
      "Epoch_1 Train_loss: 0.01214315320867663, Val_loss: 0.004332465119659901\n",
      "Epoch_2 Train_loss: 0.0052299927212999696, Val_loss: 0.0031691989861428738\n",
      "Epoch_3 Train_loss: 0.00413138950734296, Val_loss: 0.002892338903620839\n",
      "Epoch_4 Train_loss: 0.0035911162211452316, Val_loss: 0.0027894088998436928\n",
      "Epoch_5 Train_loss: 0.0033217719385007652, Val_loss: 0.0027361444663256407\n",
      "Epoch_6 Train_loss: 0.003156209899250192, Val_loss: 0.0027135114651173353\n",
      "Epoch_7 Train_loss: 0.0030680671165997093, Val_loss: 0.00270462385378778\n",
      "Epoch_8 Train_loss: 0.003003998392590235, Val_loss: 0.0026958435773849487\n",
      "Epoch_9 Train_loss: 0.002970110427531483, Val_loss: 0.0026976577937602997\n",
      "Epoch_10 Train_loss: 0.0029441887990243236, Val_loss: 0.0026874965988099575\n",
      "Epoch_11 Train_loss: 0.0029275683290493374, Val_loss: 0.002676224336028099\n",
      "Epoch_12 Train_loss: 0.002914595363723832, Val_loss: 0.0026859489735215902\n",
      "Epoch_13 Train_loss: 0.002907385754414146, Val_loss: 0.002677859738469124\n",
      "Epoch_14 Train_loss: 0.0028998528537580496, Val_loss: 0.002674669260159135\n",
      "Epoch_15 Train_loss: 0.0028976602473660034, Val_loss: 0.002677365904673934\n"
     ]
    }
   ],
   "source": [
    "from torch import nn\n",
    "\n",
    "params = {\n",
    "    'depth': 2,\n",
    "    'width': 30,\n",
    "    'learning_rate': 0.00001,\n",
    "    'batchnorm': False,\n",
    "    'drop_out_rate': 0.05,\n",
    "    'batch_size': 512,\n",
    "    'activation_fn': nn.ReLU,\n",
    "    'n_epochs': 15,\n",
    "    'early_stopping_rounds': 3,\n",
    "    'device': 'cpu',\n",
    "    'scheduler_rate': 0.995\n",
    "}\n",
    "\n",
    "\n",
    "nn_4 = PytorchRegressor(**params)\n",
    "nn_4.fit(train[FACTORS_3].to_numpy(), train[TARGET].to_numpy(), eval_set=[(test[FACTORS_3].to_numpy(), test[TARGET].to_numpy())])\n",
    "train['nn3_logret'] = nn_4.predict(train[FACTORS_3].to_numpy())\n",
    "test['nn3_logret'] = nn_4.predict(test[FACTORS_3].to_numpy())\n",
    "valid['nn3_logret'] = nn_4.predict(valid[FACTORS_3 ].to_numpy())"
   ]
  },
  {
   "cell_type": "code",
   "execution_count": 78,
   "metadata": {},
   "outputs": [
    {
     "name": "stdout",
     "output_type": "stream",
     "text": [
      "Epoch_1 Train_loss: 0.013540162003114293, Val_loss: 0.004601630847901106\n",
      "Epoch_2 Train_loss: 0.005447252450489776, Val_loss: 0.0031695326324552298\n",
      "Epoch_3 Train_loss: 0.004252093511572998, Val_loss: 0.002858534688130021\n",
      "Epoch_4 Train_loss: 0.0037518921669132915, Val_loss: 0.002771886996924877\n",
      "Epoch_5 Train_loss: 0.0034702688627921874, Val_loss: 0.002736411988735199\n",
      "Epoch_6 Train_loss: 0.003312634389670908, Val_loss: 0.002706797793507576\n",
      "Epoch_7 Train_loss: 0.0032086222215374667, Val_loss: 0.0026974857319146395\n",
      "Epoch_8 Train_loss: 0.0031173521450253952, Val_loss: 0.002681577345356345\n",
      "Epoch_9 Train_loss: 0.0030706769821839523, Val_loss: 0.0026774692814797163\n",
      "Epoch_10 Train_loss: 0.0030220032061408315, Val_loss: 0.0026764406356960535\n",
      "Epoch_11 Train_loss: 0.0029909843721809145, Val_loss: 0.002672538859769702\n",
      "Epoch_12 Train_loss: 0.002962498413622809, Val_loss: 0.0026740655303001404\n",
      "Epoch_13 Train_loss: 0.002945074949367066, Val_loss: 0.0026696869172155857\n",
      "Epoch_14 Train_loss: 0.0029335334897882667, Val_loss: 0.002661226550117135\n",
      "Epoch_15 Train_loss: 0.002920353846266277, Val_loss: 0.002660594414919615\n"
     ]
    }
   ],
   "source": [
    "from torch import nn\n",
    "\n",
    "params = {\n",
    "    'depth': 2,\n",
    "    'width': 30,\n",
    "    'learning_rate': 0.00001,\n",
    "    'batchnorm': False,\n",
    "    'drop_out_rate': 0.05,\n",
    "    'batch_size': 512,\n",
    "    'activation_fn': nn.ReLU,\n",
    "    'n_epochs': 15,\n",
    "    'early_stopping_rounds': 3,\n",
    "    'device': 'cpu',\n",
    "    'scheduler_rate': 0.995\n",
    "}\n",
    "\n",
    "\n",
    "nn_4 = PytorchRegressor(**params)\n",
    "nn_4.fit(train[FACTORS_4].to_numpy(), train[TARGET].to_numpy(), eval_set=[(test[FACTORS_4].to_numpy(), test[TARGET].to_numpy())])\n",
    "train['nn4_logret'] = nn_4.predict(train[FACTORS_4].to_numpy())\n",
    "test['nn4_logret'] = nn_4.predict(test[FACTORS_4].to_numpy())\n",
    "valid['nn4_logret'] = nn_4.predict(valid[FACTORS_4 ].to_numpy())"
   ]
  },
  {
   "cell_type": "code",
   "execution_count": 79,
   "metadata": {},
   "outputs": [
    {
     "name": "stdout",
     "output_type": "stream",
     "text": [
      "Epoch_1 Train_loss: 0.03176603780983465, Val_loss: 0.0041970182210206985\n",
      "Epoch_2 Train_loss: 0.00547027578325861, Val_loss: 0.0031315358355641365\n",
      "Epoch_3 Train_loss: 0.004306950134811708, Val_loss: 0.0029146315064281225\n",
      "Epoch_4 Train_loss: 0.0037224279204786845, Val_loss: 0.002796966815367341\n",
      "Epoch_5 Train_loss: 0.0033680173140800147, Val_loss: 0.002725741593167186\n",
      "Epoch_6 Train_loss: 0.0031532681313192054, Val_loss: 0.0026837438344955444\n",
      "Epoch_7 Train_loss: 0.003038895256630611, Val_loss: 0.002667068736627698\n",
      "Epoch_8 Train_loss: 0.0029606033788116925, Val_loss: 0.002647140296176076\n",
      "Epoch_9 Train_loss: 0.0029204491920325924, Val_loss: 0.0026333474088460207\n",
      "Epoch_10 Train_loss: 0.002892928119044796, Val_loss: 0.0026332815177738667\n",
      "Epoch_11 Train_loss: 0.0028736018425739125, Val_loss: 0.0026248586364090443\n",
      "Epoch_12 Train_loss: 0.0028604313549208766, Val_loss: 0.0026227454654872417\n",
      "Epoch_13 Train_loss: 0.0028525058710254262, Val_loss: 0.0026161137502640486\n",
      "Epoch_14 Train_loss: 0.002845391966947922, Val_loss: 0.002612707205116749\n",
      "Epoch_15 Train_loss: 0.002840720351296153, Val_loss: 0.002615197328850627\n"
     ]
    }
   ],
   "source": [
    "from torch import nn\n",
    "\n",
    "params = {\n",
    "    'depth': 2,\n",
    "    'width': 30,\n",
    "    'learning_rate': 0.00001,\n",
    "    'batchnorm': False,\n",
    "    'drop_out_rate': 0.05,\n",
    "    'batch_size': 512,\n",
    "    'activation_fn': nn.ReLU,\n",
    "    'n_epochs': 15,\n",
    "    'early_stopping_rounds': 3,\n",
    "    'device': 'cpu',\n",
    "    'scheduler_rate': 0.995\n",
    "}\n",
    "\n",
    "\n",
    "nn_4 = PytorchRegressor(**params)\n",
    "nn_4.fit(train[FACTORS_5].to_numpy(), train[TARGET].to_numpy(), eval_set=[(test[FACTORS_5].to_numpy(), test[TARGET].to_numpy())])\n",
    "train['nn5_logret'] = nn_4.predict(train[FACTORS_5].to_numpy())\n",
    "test['nn5_logret'] = nn_4.predict(test[FACTORS_5].to_numpy())\n",
    "valid['nn5_logret'] = nn_4.predict(valid[FACTORS_5 ].to_numpy())"
   ]
  },
  {
   "cell_type": "code",
   "execution_count": 48,
   "metadata": {},
   "outputs": [
    {
     "name": "stderr",
     "output_type": "stream",
     "text": [
      "[I 2024-05-30 22:21:09,351] A new study created in memory with name: no-name-f997606a-5e8c-4a33-8b9e-2a56f3f46e3a\n",
      "[I 2024-05-30 22:21:15,992] Trial 0 finished with value: 0.003120026721007489 and parameters: {'colsample_bytree': 0.7571935160674038, 'learning_rate': 0.06674228358190006, 'max_depth': 23, 'subsample': 0.13197312389231572, 'gamma': 0.02673157564067019, 'reg_lambda': 7.315200585315364e-08, 'reg_alpha': 7.001637842083507e-07, 'min_child_weight': 18.827288505087303}. Best is trial 0 with value: 0.003120026721007489.\n"
     ]
    },
    {
     "name": "stdout",
     "output_type": "stream",
     "text": [
      "[0.00353311 0.00283199 0.00317027 0.00294474]\n"
     ]
    },
    {
     "name": "stderr",
     "output_type": "stream",
     "text": [
      "[I 2024-05-30 22:21:21,592] Trial 1 finished with value: 0.0028885144286081386 and parameters: {'colsample_bytree': 0.23221081938490987, 'learning_rate': 0.0025929014343813546, 'max_depth': 43, 'subsample': 0.32604054797067133, 'gamma': 0.5898504658470732, 'reg_lambda': 0.00491026701197568, 'reg_alpha': 0.07058223565410605, 'min_child_weight': 15.849661940212272}. Best is trial 1 with value: 0.0028885144286081386.\n"
     ]
    },
    {
     "name": "stdout",
     "output_type": "stream",
     "text": [
      "[0.0029919  0.00280167 0.00316336 0.00259713]\n"
     ]
    },
    {
     "name": "stderr",
     "output_type": "stream",
     "text": [
      "[I 2024-05-30 22:21:34,040] Trial 2 finished with value: 0.0029106532095872573 and parameters: {'colsample_bytree': 0.972482523646193, 'learning_rate': 5.3848276510660746e-05, 'max_depth': 27, 'subsample': 0.8238320152244705, 'gamma': 0.14835440430941327, 'reg_lambda': 3.241871857997026, 'reg_alpha': 1.1414080372662468e-08, 'min_child_weight': 38.564658662815134}. Best is trial 1 with value: 0.0028885144286081386.\n"
     ]
    },
    {
     "name": "stdout",
     "output_type": "stream",
     "text": [
      "[0.00302047 0.00283651 0.0031906  0.00259503]\n"
     ]
    },
    {
     "name": "stderr",
     "output_type": "stream",
     "text": [
      "[I 2024-05-30 22:21:39,243] Trial 3 finished with value: 0.0028728274514905018 and parameters: {'colsample_bytree': 0.6116745087652266, 'learning_rate': 0.011756575725702625, 'max_depth': 24, 'subsample': 0.30961991512414133, 'gamma': 0.9053535353933599, 'reg_lambda': 0.027616322273585285, 'reg_alpha': 6.840737498484723e-07, 'min_child_weight': 14.548510114361232}. Best is trial 3 with value: 0.0028728274514905018.\n"
     ]
    },
    {
     "name": "stdout",
     "output_type": "stream",
     "text": [
      "[0.002979   0.00277387 0.00311967 0.00261877]\n"
     ]
    },
    {
     "name": "stderr",
     "output_type": "stream",
     "text": [
      "[I 2024-05-30 22:21:43,234] Trial 4 pruned. \n",
      "[I 2024-05-30 22:21:48,521] Trial 5 pruned. \n",
      "[I 2024-05-30 22:21:55,417] Trial 6 pruned. \n",
      "[I 2024-05-30 22:22:03,090] Trial 7 finished with value: 0.002911222311428286 and parameters: {'colsample_bytree': 0.3521440583447838, 'learning_rate': 2.554621954050877e-05, 'max_depth': 37, 'subsample': 0.3921364171709053, 'gamma': 0.2746196510061041, 'reg_lambda': 0.000929279124379835, 'reg_alpha': 5.2493407914583635e-06, 'min_child_weight': 7.462801779565353}. Best is trial 3 with value: 0.0028728274514905018.\n"
     ]
    },
    {
     "name": "stdout",
     "output_type": "stream",
     "text": [
      "[0.00301776 0.00283869 0.00319358 0.00259487]\n"
     ]
    },
    {
     "name": "stderr",
     "output_type": "stream",
     "text": [
      "[I 2024-05-30 22:22:09,879] Trial 8 pruned. \n",
      "[I 2024-05-30 22:22:15,520] Trial 9 pruned. \n",
      "[I 2024-05-30 22:22:19,324] Trial 10 pruned. \n",
      "[I 2024-05-30 22:22:22,910] Trial 11 pruned. \n",
      "[I 2024-05-30 22:22:26,773] Trial 12 pruned. \n",
      "[I 2024-05-30 22:22:32,535] Trial 13 pruned. \n",
      "[I 2024-05-30 22:22:36,442] Trial 14 pruned. \n",
      "[I 2024-05-30 22:22:40,336] Trial 15 pruned. \n",
      "[I 2024-05-30 22:22:46,427] Trial 16 pruned. \n",
      "[I 2024-05-30 22:22:49,910] Trial 17 pruned. \n",
      "[I 2024-05-30 22:22:54,987] Trial 18 pruned. \n",
      "[I 2024-05-30 22:23:02,392] Trial 19 pruned. \n",
      "[I 2024-05-30 22:23:07,990] Trial 20 pruned. \n",
      "[I 2024-05-30 22:23:14,481] Trial 21 pruned. \n",
      "[I 2024-05-30 22:23:20,146] Trial 22 pruned. \n",
      "[I 2024-05-30 22:23:24,342] Trial 23 pruned. \n",
      "[I 2024-05-30 22:23:34,999] Trial 24 pruned. \n",
      "[I 2024-05-30 22:23:43,804] Trial 25 pruned. \n",
      "[I 2024-05-30 22:23:48,482] Trial 26 pruned. \n",
      "[I 2024-05-30 22:23:53,826] Trial 27 pruned. \n",
      "[I 2024-05-30 22:24:00,045] Trial 28 pruned. \n",
      "[I 2024-05-30 22:24:06,285] Trial 29 finished with value: 0.002911100597547649 and parameters: {'colsample_bytree': 0.8009364939471635, 'learning_rate': 1.376907927315132e-05, 'max_depth': 3, 'subsample': 0.08303497951502195, 'gamma': 0.44208321067921946, 'reg_lambda': 0.00041227657380929147, 'reg_alpha': 2.1256044876750864e-06, 'min_child_weight': 18.29629951353279}. Best is trial 3 with value: 0.0028728274514905018.\n"
     ]
    },
    {
     "name": "stdout",
     "output_type": "stream",
     "text": [
      "[0.00301747 0.00283868 0.00319344 0.00259482]\n"
     ]
    },
    {
     "name": "stderr",
     "output_type": "stream",
     "text": [
      "[I 2024-05-30 22:24:33,320] Trial 30 pruned. \n",
      "[I 2024-05-30 22:24:37,107] Trial 31 pruned. \n",
      "[I 2024-05-30 22:24:40,670] Trial 32 pruned. \n",
      "[I 2024-05-30 22:24:47,278] Trial 33 finished with value: 0.002910943253442965 and parameters: {'colsample_bytree': 0.9341759993510521, 'learning_rate': 1.9039767295119855e-05, 'max_depth': 6, 'subsample': 0.19657222593901064, 'gamma': 0.9225787290461747, 'reg_lambda': 1.986905526085388e-06, 'reg_alpha': 5.561379133560509e-08, 'min_child_weight': 22.75482182047309}. Best is trial 3 with value: 0.0028728274514905018.\n"
     ]
    },
    {
     "name": "stdout",
     "output_type": "stream",
     "text": [
      "[0.00301726 0.00283846 0.00319325 0.0025948 ]\n"
     ]
    },
    {
     "name": "stderr",
     "output_type": "stream",
     "text": [
      "[I 2024-05-30 22:24:50,963] Trial 34 pruned. \n",
      "[I 2024-05-30 22:24:57,024] Trial 35 pruned. \n",
      "[I 2024-05-30 22:25:01,379] Trial 36 pruned. \n",
      "[I 2024-05-30 22:25:06,675] Trial 37 pruned. \n",
      "[I 2024-05-30 22:25:09,764] Trial 38 pruned. \n",
      "[I 2024-05-30 22:25:16,242] Trial 39 pruned. \n"
     ]
    }
   ],
   "source": [
    "pruner = optuna.pruners.HyperbandPruner()\n",
    "#pruner = optuna.pruners.NopPruner()\n",
    "\n",
    "study = optuna.create_study(direction='minimize', pruner=pruner)\n",
    "obj = Objective(pd.concat([train, test]), TARGET, FACTORS_4, 4)\n",
    "study.optimize(obj, n_trials=40)\n",
    "\n",
    "best = study.best_params\n",
    "best['n_estimators'] = 300\n"
   ]
  },
  {
   "cell_type": "code",
   "execution_count": 49,
   "metadata": {},
   "outputs": [],
   "source": [
    "model5 = XGBRegressor(**best)\n",
    "\n",
    "model5.fit(train[FACTORS_2], train[TARGET])\n",
    "train['xgb2_logret'] = model5.predict(train[FACTORS_2])\n",
    "test['xgb2_logret'] = model5.predict(test[FACTORS_2])\n",
    "valid['xgb2_logret'] = model5.predict(valid[FACTORS_2])\n",
    "\n",
    "model5 = XGBRegressor(**best)\n",
    "\n",
    "model5.fit(train[FACTORS_3], train[TARGET])\n",
    "train['xgb3_logret'] = model5.predict(train[FACTORS_3])\n",
    "test['xgb3_logret'] = model5.predict(test[FACTORS_3])\n",
    "valid['xgb3_logret'] = model5.predict(valid[FACTORS_3])\n",
    "\n",
    "model5 = XGBRegressor(**best)\n",
    "\n",
    "model5.fit(train[FACTORS_4], train[TARGET])\n",
    "train['xgb4_logret'] = model5.predict(train[FACTORS_4])\n",
    "test['xgb4_logret'] = model5.predict(test[FACTORS_4])\n",
    "valid['xgb4_logret'] = model5.predict(valid[FACTORS_4])\n",
    "\n",
    "model5 = XGBRegressor(**best)\n",
    "\n",
    "model5.fit(train[FACTORS_5], train[TARGET])\n",
    "train['xgb5_logret'] = model5.predict(train[FACTORS_5])\n",
    "test['xgb5_logret'] = model5.predict(test[FACTORS_5])\n",
    "valid['xgb5_logret'] = model5.predict(valid[FACTORS_5])"
   ]
  },
  {
   "cell_type": "markdown",
   "metadata": {},
   "source": [
    "# Predicting Binary Movements"
   ]
  },
  {
   "cell_type": "code",
   "execution_count": 50,
   "metadata": {},
   "outputs": [],
   "source": [
    "TARGET = 'y_binary'"
   ]
  },
  {
   "cell_type": "code",
   "execution_count": 51,
   "metadata": {},
   "outputs": [],
   "source": [
    "def add_classification_targets(dataset: pd.DataFrame):\n",
    "    dataset['y_binary'] = (dataset['IV_LOG_RET'] > 0).astype(int)\n",
    "    dataset['weight'] = dataset['IV_LOG_RET'].abs()\n",
    "    \n",
    "    return dataset"
   ]
  },
  {
   "cell_type": "code",
   "execution_count": 52,
   "metadata": {},
   "outputs": [],
   "source": [
    "train = add_classification_targets(train)\n",
    "test = add_classification_targets(test)\n",
    "valid = add_classification_targets(valid)"
   ]
  },
  {
   "cell_type": "code",
   "execution_count": 53,
   "metadata": {},
   "outputs": [],
   "source": [
    "from sklearn.metrics import accuracy_score"
   ]
  },
  {
   "cell_type": "code",
   "execution_count": 54,
   "metadata": {},
   "outputs": [],
   "source": [
    "def calculate_weighted_accuracy(dataset: pd.DataFrame, target_col: str, regression=True):\n",
    "    \n",
    "    if regression:\n",
    "        pred = (dataset[target_col] > 0).astype(int)\n",
    "    else: \n",
    "        pred = (dataset[target_col] > 0.5).astype(int)\n",
    "            \n",
    "    return accuracy_score(dataset['y_binary'], pred, sample_weight=dataset['weight'])\n",
    "    "
   ]
  },
  {
   "cell_type": "code",
   "execution_count": 55,
   "metadata": {},
   "outputs": [
    {
     "name": "stdout",
     "output_type": "stream",
     "text": [
      "Epoch_1 Train_loss: 0.6934403873729027, Val_loss: 0.6891818642616272\n",
      "Epoch_2 Train_loss: 0.6904682330997024, Val_loss: 0.6881126761436462\n",
      "Epoch_3 Train_loss: 0.6899229254083028, Val_loss: 0.6879683136940002\n",
      "Epoch_4 Train_loss: 0.6895828091359592, Val_loss: 0.6879271864891052\n",
      "Epoch_5 Train_loss: 0.6896267426369965, Val_loss: 0.687945544719696\n",
      "Epoch_6 Train_loss: 0.6895204060692655, Val_loss: 0.687947690486908\n",
      "Early stopping at epoch 7\n"
     ]
    }
   ],
   "source": [
    "from torch import nn\n",
    "\n",
    "params = {\n",
    "    'depth': 2,\n",
    "    'width': 30,\n",
    "    'learning_rate': 0.00001,\n",
    "    'batchnorm': False,\n",
    "    'drop_out_rate': 0.05,\n",
    "    'batch_size': 512,\n",
    "    'activation_fn': nn.ReLU,\n",
    "    'n_epochs': 15,\n",
    "    'early_stopping_rounds': 3,\n",
    "    'device': 'cpu',\n",
    "    'scheduler_rate': 0.995,\n",
    "    'classification': True,\n",
    "}\n",
    "\n",
    "\n",
    "nn_4 = PytorchRegressor(**params)\n",
    "nn_4.fit(train[FACTORS_2].to_numpy(), train[TARGET].to_numpy(), eval_set=[(test[FACTORS_2].to_numpy(), test[TARGET].to_numpy())])\n",
    "train['nn2_binary'] = nn_4.predict(train[FACTORS_2].to_numpy())\n",
    "test['nn2_binary'] = nn_4.predict(test[FACTORS_2].to_numpy())\n",
    "valid['nn2_binary'] = nn_4.predict(valid[FACTORS_2].to_numpy())"
   ]
  },
  {
   "cell_type": "code",
   "execution_count": 56,
   "metadata": {},
   "outputs": [
    {
     "name": "stdout",
     "output_type": "stream",
     "text": [
      "Epoch_1 Train_loss: 0.6993625902802699, Val_loss: 0.6914934515953064\n",
      "Epoch_2 Train_loss: 0.6918870318340107, Val_loss: 0.6885483860969543\n",
      "Epoch_3 Train_loss: 0.6901151940221804, Val_loss: 0.687693178653717\n",
      "Epoch_4 Train_loss: 0.6895908001366476, Val_loss: 0.6873573064804077\n",
      "Epoch_5 Train_loss: 0.6893054687998376, Val_loss: 0.6871848106384277\n",
      "Epoch_6 Train_loss: 0.6891760353087264, Val_loss: 0.6870728731155396\n",
      "Epoch_7 Train_loss: 0.6890911259171255, Val_loss: 0.6869911551475525\n",
      "Epoch_8 Train_loss: 0.689074075238486, Val_loss: 0.6869284510612488\n",
      "Epoch_9 Train_loss: 0.6890048008692836, Val_loss: 0.6868876814842224\n",
      "Epoch_10 Train_loss: 0.6889473233672483, Val_loss: 0.6868658661842346\n",
      "Epoch_11 Train_loss: 0.6889366765675528, Val_loss: 0.6868487000465393\n",
      "Epoch_12 Train_loss: 0.6889141421095574, Val_loss: 0.68681401014328\n",
      "Epoch_13 Train_loss: 0.6888131570874321, Val_loss: 0.6867983937263489\n",
      "Epoch_14 Train_loss: 0.6888644253552587, Val_loss: 0.6867888569831848\n",
      "Epoch_15 Train_loss: 0.6888160302352926, Val_loss: 0.6867806911468506\n"
     ]
    }
   ],
   "source": [
    "from torch import nn\n",
    "\n",
    "params = {\n",
    "    'depth': 2,\n",
    "    'width': 30,\n",
    "    'learning_rate': 0.00001,\n",
    "    'batchnorm': False,\n",
    "    'drop_out_rate': 0.05,\n",
    "    'batch_size': 512,\n",
    "    'activation_fn': nn.ReLU,\n",
    "    'n_epochs': 15,\n",
    "    'early_stopping_rounds': 3,\n",
    "    'device': 'cpu',\n",
    "    'scheduler_rate': 0.995,\n",
    "    'classification': True,\n",
    "}\n",
    "\n",
    "\n",
    "nn_4 = PytorchRegressor(**params)\n",
    "nn_4.fit(train[FACTORS_3].to_numpy(), train[TARGET].to_numpy(), eval_set=[(test[FACTORS_3].to_numpy(), test[TARGET].to_numpy())])\n",
    "train['nn3_binary'] = nn_4.predict(train[FACTORS_3].to_numpy())\n",
    "test['nn3_binary'] = nn_4.predict(test[FACTORS_3].to_numpy())\n",
    "valid['nn3_binary'] = nn_4.predict(valid[FACTORS_3].to_numpy())"
   ]
  },
  {
   "cell_type": "code",
   "execution_count": 58,
   "metadata": {},
   "outputs": [
    {
     "name": "stdout",
     "output_type": "stream",
     "text": [
      "Epoch_1 Train_loss: 0.6929767071370909, Val_loss: 0.689149022102356\n",
      "Epoch_2 Train_loss: 0.6878450201464607, Val_loss: 0.6877522468566895\n",
      "Epoch_3 Train_loss: 0.6859490028133629, Val_loss: 0.687273383140564\n",
      "Epoch_4 Train_loss: 0.6853766120294795, Val_loss: 0.6870520710945129\n",
      "Epoch_5 Train_loss: 0.6847843017458016, Val_loss: 0.6868841052055359\n",
      "Epoch_6 Train_loss: 0.684661973154954, Val_loss: 0.6867405772209167\n",
      "Epoch_7 Train_loss: 0.6843689354297927, Val_loss: 0.6866160035133362\n",
      "Epoch_8 Train_loss: 0.6843662830579419, Val_loss: 0.6865044236183167\n",
      "Epoch_9 Train_loss: 0.68411812007915, Val_loss: 0.6863572001457214\n",
      "Epoch_10 Train_loss: 0.684129659301455, Val_loss: 0.6862452626228333\n",
      "Epoch_11 Train_loss: 0.6839851001925898, Val_loss: 0.6861152648925781\n",
      "Epoch_12 Train_loss: 0.6839313341170242, Val_loss: 0.6860023736953735\n",
      "Epoch_13 Train_loss: 0.6838433680251574, Val_loss: 0.6859042048454285\n",
      "Epoch_14 Train_loss: 0.683772088009387, Val_loss: 0.6857972145080566\n",
      "Epoch_15 Train_loss: 0.6837235014311172, Val_loss: 0.685711145401001\n"
     ]
    }
   ],
   "source": [
    "from torch import nn\n",
    "\n",
    "params = {\n",
    "    'depth': 2,\n",
    "    'width': 30,\n",
    "    'learning_rate': 0.00001,\n",
    "    'batchnorm': False,\n",
    "    'drop_out_rate': 0.05,\n",
    "    'batch_size': 512,\n",
    "    'activation_fn': nn.ReLU,\n",
    "    'n_epochs': 15,\n",
    "    'early_stopping_rounds': 3,\n",
    "    'device': 'cpu',\n",
    "    'scheduler_rate': 0.995,\n",
    "    'classification': True,\n",
    "}\n",
    "\n",
    "\n",
    "nn_4 = PytorchRegressor(**params)\n",
    "nn_4.fit(train[FACTORS_4].to_numpy(), train[TARGET].to_numpy(), eval_set=[(test[FACTORS_4].to_numpy(), test[TARGET].to_numpy())])\n",
    "train['nn4_binary'] = nn_4.predict(train[FACTORS_4].to_numpy())\n",
    "test['nn4_binary'] = nn_4.predict(test[FACTORS_4].to_numpy())\n",
    "valid['nn4_binary'] = nn_4.predict(valid[FACTORS_4 ].to_numpy())"
   ]
  },
  {
   "cell_type": "code",
   "execution_count": 59,
   "metadata": {},
   "outputs": [
    {
     "name": "stdout",
     "output_type": "stream",
     "text": [
      "Epoch_1 Train_loss: 0.6956354940668634, Val_loss: 0.6914111375808716\n",
      "Epoch_2 Train_loss: 0.6880456153499369, Val_loss: 0.689624011516571\n",
      "Epoch_3 Train_loss: 0.6867862158113566, Val_loss: 0.6887753009796143\n",
      "Epoch_4 Train_loss: 0.6860593157628477, Val_loss: 0.6880951523780823\n",
      "Epoch_5 Train_loss: 0.6854824142839187, Val_loss: 0.6874815225601196\n",
      "Epoch_6 Train_loss: 0.6849873329985217, Val_loss: 0.6869449019432068\n",
      "Epoch_7 Train_loss: 0.6846208353835219, Val_loss: 0.6864444017410278\n",
      "Epoch_8 Train_loss: 0.68414912833609, Val_loss: 0.6859721541404724\n",
      "Epoch_9 Train_loss: 0.6837760661775697, Val_loss: 0.685541570186615\n",
      "Epoch_10 Train_loss: 0.683410951987072, Val_loss: 0.6851646304130554\n",
      "Epoch_11 Train_loss: 0.68308886439986, Val_loss: 0.6848376989364624\n",
      "Epoch_12 Train_loss: 0.6827424138432824, Val_loss: 0.6845484375953674\n",
      "Epoch_13 Train_loss: 0.6826297899769322, Val_loss: 0.6843234300613403\n",
      "Epoch_14 Train_loss: 0.6823040868412715, Val_loss: 0.684088408946991\n",
      "Epoch_15 Train_loss: 0.6821691010720241, Val_loss: 0.6838783621788025\n"
     ]
    }
   ],
   "source": [
    "from torch import nn\n",
    "\n",
    "params = {\n",
    "    'depth': 2,\n",
    "    'width': 30,\n",
    "    'learning_rate': 0.00001,\n",
    "    'batchnorm': False,\n",
    "    'drop_out_rate': 0.05,\n",
    "    'batch_size': 512,\n",
    "    'activation_fn': nn.ReLU,\n",
    "    'n_epochs': 15,\n",
    "    'early_stopping_rounds': 3,\n",
    "    'device': 'cpu',\n",
    "    'scheduler_rate': 0.995,\n",
    "    'classification': True,\n",
    "}\n",
    "\n",
    "\n",
    "nn_6 = PytorchRegressor(**params)\n",
    "nn_6.fit(train[FACTORS_5].to_numpy(), train[TARGET].to_numpy(), eval_set=[(test[FACTORS_5].to_numpy(), test[TARGET].to_numpy())])\n",
    "train['nn5_binary'] = nn_6.predict(train[FACTORS_5].to_numpy())\n",
    "test['nn5_binary'] = nn_6.predict(test[FACTORS_5].to_numpy())\n",
    "valid['nn5_binary'] = nn_6.predict(valid[FACTORS_5].to_numpy())"
   ]
  },
  {
   "cell_type": "code",
   "execution_count": 60,
   "metadata": {},
   "outputs": [],
   "source": [
    "# pruner = optuna.pruners.HyperbandPruner()\n",
    "# #pruner = optuna.pruners.NopPruner()\n",
    "\n",
    "# study = optuna.create_study(direction='minimize', pruner=pruner)\n",
    "# obj = Objective(pd.concat([train, test]), TARGET, FACTORS_4, 4, classification=True)\n",
    "# study.optimize(obj, n_trials=100)\n",
    "\n",
    "# best = study.best_params\n",
    "# best['n_estimators'] = 300"
   ]
  },
  {
   "cell_type": "code",
   "execution_count": 61,
   "metadata": {},
   "outputs": [],
   "source": [
    "from sklearn.ensemble import ExtraTreesClassifier"
   ]
  },
  {
   "cell_type": "code",
   "execution_count": 62,
   "metadata": {},
   "outputs": [],
   "source": [
    "best = {'n_estimators': 300,'colsample_bytree': 0.9935943086961306, 'learning_rate': 0.0016435480543948394, 'max_depth': 5, 'subsample': 0.8857895396939933, \n",
    "        'gamma': 0.40093131276578453, 'reg_lambda': 0.002588041476387973, 'reg_alpha': 1.2482866363895047e-05, 'min_child_weight': 15.369710038841857}\n"
   ]
  },
  {
   "cell_type": "code",
   "execution_count": 63,
   "metadata": {},
   "outputs": [],
   "source": [
    "model5 = XGBClassifier(**best)\n",
    "\n",
    "model5.fit(train[FACTORS_2], train[TARGET])\n",
    "train['xgb2_binary'] = model5.predict(train[FACTORS_2])\n",
    "test['xgb2_binary'] = model5.predict(test[FACTORS_2])\n",
    "valid['xgb2_binary'] = model5.predict(valid[FACTORS_2])\n",
    "\n",
    "\n",
    "model5 = XGBClassifier(**best)\n",
    "\n",
    "model5.fit(train[FACTORS_3], train[TARGET])\n",
    "train['xgb3_binary'] = model5.predict(train[FACTORS_3])\n",
    "test['xgb3_binary'] = model5.predict(test[FACTORS_3])\n",
    "valid['xgb3_binary'] = model5.predict(valid[FACTORS_3])\n",
    "\n",
    "model5 = XGBClassifier(**best)\n",
    "\n",
    "model5.fit(train[FACTORS_4], train[TARGET])\n",
    "train['xgb4_binary'] = model5.predict(train[FACTORS_4])\n",
    "test['xgb4_binary'] = model5.predict(test[FACTORS_4])\n",
    "valid['xgb4_binary'] = model5.predict(valid[FACTORS_4])\n",
    "\n",
    "model5 = XGBClassifier(**best)\n",
    "\n",
    "model5.fit(train[FACTORS_5], train[TARGET])\n",
    "train['xgb5_binary'] = model5.predict(train[FACTORS_5])\n",
    "test['xgb5_binary'] = model5.predict(test[FACTORS_5])\n",
    "valid['xgb5_binary'] = model5.predict(valid[FACTORS_5])"
   ]
  },
  {
   "cell_type": "code",
   "execution_count": 64,
   "metadata": {},
   "outputs": [
    {
     "data": {
      "image/png": "[encoded data removed]",
      "text/plain": [
       "<Figure size 1200x800 with 1 Axes>"
      ]
     },
     "metadata": {},
     "output_type": "display_data"
    }
   ],
   "source": [
    "model5 = XGBRegressor(**best)\n",
    "\n",
    "model5.fit(train[FACTORS_5_NOISE], train[TARGET])\n",
    "train['xgb_noise'] = model5.predict(train[FACTORS_5_NOISE])\n",
    "test['xgb_noise'] = model5.predict(test[FACTORS_5_NOISE])\n",
    "valid['xgb_noise'] = model5.predict(valid[FACTORS_5_NOISE])\n",
    "\n",
    "plot_importance(model5, FACTORS_5_NOISE)"
   ]
  },
  {
   "cell_type": "markdown",
   "metadata": {
    "vscode": {
     "languageId": "bat"
    }
   },
   "source": [
    "# Results"
   ]
  },
  {
   "cell_type": "code",
   "execution_count": 65,
   "metadata": {},
   "outputs": [
    {
     "data": {
      "text/plain": [
       "0.5209596415045112"
      ]
     },
     "execution_count": 65,
     "metadata": {},
     "output_type": "execute_result"
    }
   ],
   "source": [
    "# baseline accuracy:\n",
    "accuracy_score(valid['y_binary'], np.zeros(len(valid)), sample_weight=valid['weight'])"
   ]
  },
  {
   "cell_type": "code",
   "execution_count": 66,
   "metadata": {},
   "outputs": [],
   "source": [
    "def is_regression(series: pd.Series) -> bool:\n",
    "\n",
    "    # Check if all values are within the range [0, 1]\n",
    "    if series.between(0, 1).all() or set(series.unique()) == {0, 1}:\n",
    "        return False\n",
    "    else:\n",
    "        return True"
   ]
  },
  {
   "cell_type": "code",
   "execution_count": 80,
   "metadata": {},
   "outputs": [
    {
     "data": {
      "text/plain": [
       "Index(['QUOTE_DATE', 'option_id', 'EXPIRE_UNIX', 'STRIKE', 'IV', 'DELTA',\n",
       "       'DTE', 'MID', 'UNDERLYING_LAST', 'BidAskSpread', 'VOLUME', 'IV_DELTA',\n",
       "       'IV_LOG_RET', 'VIX', '1Y_US', 'SPY_LOG_RET', 'Noise', 'linear_pred',\n",
       "       'nn_2factors', 'nn_3factors', 'nn_4factors', 'nn_5factors', 'xgb2',\n",
       "       'xgb3', 'xgb4', 'xgb5', 'xgb_noise', 'nn2_logret', 'nn3_logret',\n",
       "       'nn4_logret', 'xgb2_logret', 'xgb3_logret', 'xgb4_logret',\n",
       "       'xgb5_logret', 'y_binary', 'weight', 'nn2_binary', 'nn3_binary',\n",
       "       'nn4_binary', 'nn5_binary', 'xgb2_binary', 'xgb3_binary', 'xgb4_binary',\n",
       "       'xgb5_binary', 'nn5_logret'],\n",
       "      dtype='object')"
      ]
     },
     "execution_count": 80,
     "metadata": {},
     "output_type": "execute_result"
    }
   ],
   "source": [
    "train.columns"
   ]
  },
  {
   "cell_type": "code",
   "execution_count": 81,
   "metadata": {},
   "outputs": [],
   "source": [
    "models = ['linear_pred', 'nn_2factors', 'nn_3factors', 'nn_4factors', 'nn_5factors', 'xgb2',\n",
    "          'xgb3', 'xgb4', 'xgb5', 'xgb_noise', 'nn2_logret', 'nn3_logret', \n",
    "          'nn4_logret', 'nn5_logret', 'xgb2_logret', 'xgb3_logret', 'xgb4_logret',\n",
    "          'xgb5_logret', 'nn2_binary', 'nn3_binary',\n",
    "          'nn4_binary', 'nn5_binary', 'xgb2_binary', 'xgb3_binary', 'xgb4_binary',\n",
    "          'xgb5_binary']"
   ]
  },
  {
   "cell_type": "code",
   "execution_count": 82,
   "metadata": {},
   "outputs": [],
   "source": [
    "scores = {}\n",
    "for m in models:\n",
    "    \n",
    "    regression = is_regression(valid[m])\n",
    "    \n",
    "    scores[m] = calculate_weighted_accuracy(valid, m , regression)    "
   ]
  },
  {
   "cell_type": "code",
   "execution_count": 86,
   "metadata": {},
   "outputs": [
    {
     "data": {
      "text/plain": [
       "{'linear_pred': 0.5594273261625322,\n",
       " 'nn_2factors': 0.5677790230832834,\n",
       " 'nn_3factors': 0.5468627782908508,\n",
       " 'nn_4factors': 0.5703873946226954,\n",
       " 'nn_5factors': 0.5589892278154506,\n",
       " 'xgb2': 0.4807073180271663,\n",
       " 'xgb3': 0.4807073180271663,\n",
       " 'xgb4': 0.4772158021953438,\n",
       " 'xgb5': 0.47853351186024556,\n",
       " 'xgb_noise': 0.6105546849075772,\n",
       " 'nn2_logret': 0.5535630317570364,\n",
       " 'nn3_logret': 0.5574581841416199,\n",
       " 'nn4_logret': 0.5649604052246757,\n",
       " 'nn5_logret': 0.5735901615678556,\n",
       " 'xgb2_logret': 0.5441507154020446,\n",
       " 'xgb3_logret': 0.5377078438847362,\n",
       " 'xgb4_logret': 0.5049304014146231,\n",
       " 'xgb5_logret': 0.5014649948850787,\n",
       " 'nn2_binary': 0.55808960981304,\n",
       " 'nn3_binary': 0.5532601021756832,\n",
       " 'nn4_binary': 0.574590184707517,\n",
       " 'nn5_binary': 0.5798937443544794,\n",
       " 'xgb2_binary': 0.5724828565308957,\n",
       " 'xgb3_binary': 0.5941181250153774,\n",
       " 'xgb4_binary': 0.6191101416372047,\n",
       " 'xgb5_binary': 0.6157958847423932}"
      ]
     },
     "execution_count": 86,
     "metadata": {},
     "output_type": "execute_result"
    }
   ],
   "source": [
    "scores"
   ]
  },
  {
   "cell_type": "code",
   "execution_count": 84,
   "metadata": {},
   "outputs": [
    {
     "data": {
      "text/html": [
       "<div>\n",
       "<style scoped>\n",
       "    .dataframe tbody tr th:only-of-type {\n",
       "        vertical-align: middle;\n",
       "    }\n",
       "\n",
       "    .dataframe tbody tr th {\n",
       "        vertical-align: top;\n",
       "    }\n",
       "\n",
       "    .dataframe thead th {\n",
       "        text-align: right;\n",
       "    }\n",
       "</style>\n",
       "<table border=\"1\" class=\"dataframe\">\n",
       "  <thead>\n",
       "    <tr style=\"text-align: right;\">\n",
       "      <th></th>\n",
       "      <th>QUOTE_DATE</th>\n",
       "      <th>option_id</th>\n",
       "      <th>EXPIRE_UNIX</th>\n",
       "      <th>STRIKE</th>\n",
       "      <th>IV</th>\n",
       "      <th>DELTA</th>\n",
       "      <th>DTE</th>\n",
       "      <th>MID</th>\n",
       "      <th>UNDERLYING_LAST</th>\n",
       "      <th>BidAskSpread</th>\n",
       "      <th>...</th>\n",
       "      <th>weight</th>\n",
       "      <th>nn2_binary</th>\n",
       "      <th>nn3_binary</th>\n",
       "      <th>nn4_binary</th>\n",
       "      <th>nn5_binary</th>\n",
       "      <th>xgb2_binary</th>\n",
       "      <th>xgb3_binary</th>\n",
       "      <th>xgb4_binary</th>\n",
       "      <th>xgb5_binary</th>\n",
       "      <th>nn5_logret</th>\n",
       "    </tr>\n",
       "  </thead>\n",
       "  <tbody>\n",
       "    <tr>\n",
       "      <th>33736</th>\n",
       "      <td>2011-12-14</td>\n",
       "      <td>C_20120120_112.0</td>\n",
       "      <td>1327093200</td>\n",
       "      <td>112.0</td>\n",
       "      <td>2.342395</td>\n",
       "      <td>1.700603</td>\n",
       "      <td>-0.637479</td>\n",
       "      <td>10.330</td>\n",
       "      <td>121.74</td>\n",
       "      <td>0.011617</td>\n",
       "      <td>...</td>\n",
       "      <td>0.082371</td>\n",
       "      <td>0.502228</td>\n",
       "      <td>0.508230</td>\n",
       "      <td>0.422476</td>\n",
       "      <td>0.423597</td>\n",
       "      <td>0</td>\n",
       "      <td>0</td>\n",
       "      <td>0</td>\n",
       "      <td>0</td>\n",
       "      <td>-0.004951</td>\n",
       "    </tr>\n",
       "    <tr>\n",
       "      <th>33794</th>\n",
       "      <td>2011-12-14</td>\n",
       "      <td>C_20120120_113.0</td>\n",
       "      <td>1327093200</td>\n",
       "      <td>113.0</td>\n",
       "      <td>2.285448</td>\n",
       "      <td>1.553686</td>\n",
       "      <td>-0.637479</td>\n",
       "      <td>9.500</td>\n",
       "      <td>121.74</td>\n",
       "      <td>0.014737</td>\n",
       "      <td>...</td>\n",
       "      <td>0.071411</td>\n",
       "      <td>0.498240</td>\n",
       "      <td>0.501703</td>\n",
       "      <td>0.421213</td>\n",
       "      <td>0.422817</td>\n",
       "      <td>0</td>\n",
       "      <td>0</td>\n",
       "      <td>0</td>\n",
       "      <td>0</td>\n",
       "      <td>-0.005970</td>\n",
       "    </tr>\n",
       "    <tr>\n",
       "      <th>36610</th>\n",
       "      <td>2011-12-14</td>\n",
       "      <td>C_20120217_108.0</td>\n",
       "      <td>1329512400</td>\n",
       "      <td>108.0</td>\n",
       "      <td>3.069698</td>\n",
       "      <td>1.644867</td>\n",
       "      <td>-0.475281</td>\n",
       "      <td>14.880</td>\n",
       "      <td>121.74</td>\n",
       "      <td>0.013441</td>\n",
       "      <td>...</td>\n",
       "      <td>0.052287</td>\n",
       "      <td>0.500715</td>\n",
       "      <td>0.509061</td>\n",
       "      <td>0.422411</td>\n",
       "      <td>0.394646</td>\n",
       "      <td>0</td>\n",
       "      <td>0</td>\n",
       "      <td>0</td>\n",
       "      <td>0</td>\n",
       "      <td>-0.013124</td>\n",
       "    </tr>\n",
       "    <tr>\n",
       "      <th>36631</th>\n",
       "      <td>2011-12-14</td>\n",
       "      <td>C_20120217_110.0</td>\n",
       "      <td>1329512400</td>\n",
       "      <td>110.0</td>\n",
       "      <td>2.938661</td>\n",
       "      <td>1.469543</td>\n",
       "      <td>-0.475281</td>\n",
       "      <td>13.225</td>\n",
       "      <td>121.74</td>\n",
       "      <td>0.015879</td>\n",
       "      <td>...</td>\n",
       "      <td>0.051606</td>\n",
       "      <td>0.495837</td>\n",
       "      <td>0.501476</td>\n",
       "      <td>0.421052</td>\n",
       "      <td>0.396024</td>\n",
       "      <td>0</td>\n",
       "      <td>0</td>\n",
       "      <td>0</td>\n",
       "      <td>0</td>\n",
       "      <td>-0.013474</td>\n",
       "    </tr>\n",
       "    <tr>\n",
       "      <th>36648</th>\n",
       "      <td>2011-12-14</td>\n",
       "      <td>C_20120217_111.0</td>\n",
       "      <td>1329512400</td>\n",
       "      <td>111.0</td>\n",
       "      <td>2.798954</td>\n",
       "      <td>1.380520</td>\n",
       "      <td>-0.475281</td>\n",
       "      <td>12.375</td>\n",
       "      <td>121.74</td>\n",
       "      <td>0.012121</td>\n",
       "      <td>...</td>\n",
       "      <td>0.039855</td>\n",
       "      <td>0.493261</td>\n",
       "      <td>0.497578</td>\n",
       "      <td>0.420362</td>\n",
       "      <td>0.399774</td>\n",
       "      <td>0</td>\n",
       "      <td>0</td>\n",
       "      <td>0</td>\n",
       "      <td>0</td>\n",
       "      <td>-0.013332</td>\n",
       "    </tr>\n",
       "    <tr>\n",
       "      <th>...</th>\n",
       "      <td>...</td>\n",
       "      <td>...</td>\n",
       "      <td>...</td>\n",
       "      <td>...</td>\n",
       "      <td>...</td>\n",
       "      <td>...</td>\n",
       "      <td>...</td>\n",
       "      <td>...</td>\n",
       "      <td>...</td>\n",
       "      <td>...</td>\n",
       "      <td>...</td>\n",
       "      <td>...</td>\n",
       "      <td>...</td>\n",
       "      <td>...</td>\n",
       "      <td>...</td>\n",
       "      <td>...</td>\n",
       "      <td>...</td>\n",
       "      <td>...</td>\n",
       "      <td>...</td>\n",
       "      <td>...</td>\n",
       "      <td>...</td>\n",
       "    </tr>\n",
       "    <tr>\n",
       "      <th>54414</th>\n",
       "      <td>2010-02-22</td>\n",
       "      <td>C_20121221_115.0</td>\n",
       "      <td>1356123600</td>\n",
       "      <td>115.0</td>\n",
       "      <td>0.871827</td>\n",
       "      <td>-0.051201</td>\n",
       "      <td>5.132132</td>\n",
       "      <td>12.485</td>\n",
       "      <td>111.13</td>\n",
       "      <td>0.021626</td>\n",
       "      <td>...</td>\n",
       "      <td>0.003001</td>\n",
       "      <td>0.506217</td>\n",
       "      <td>0.500566</td>\n",
       "      <td>0.450281</td>\n",
       "      <td>0.479165</td>\n",
       "      <td>1</td>\n",
       "      <td>1</td>\n",
       "      <td>0</td>\n",
       "      <td>0</td>\n",
       "      <td>0.001812</td>\n",
       "    </tr>\n",
       "    <tr>\n",
       "      <th>54692</th>\n",
       "      <td>2010-02-22</td>\n",
       "      <td>C_20121221_120.0</td>\n",
       "      <td>1356123600</td>\n",
       "      <td>120.0</td>\n",
       "      <td>0.780397</td>\n",
       "      <td>-0.327466</td>\n",
       "      <td>5.132132</td>\n",
       "      <td>10.370</td>\n",
       "      <td>111.13</td>\n",
       "      <td>0.023144</td>\n",
       "      <td>...</td>\n",
       "      <td>0.002931</td>\n",
       "      <td>0.493099</td>\n",
       "      <td>0.501914</td>\n",
       "      <td>0.448050</td>\n",
       "      <td>0.472411</td>\n",
       "      <td>1</td>\n",
       "      <td>1</td>\n",
       "      <td>0</td>\n",
       "      <td>0</td>\n",
       "      <td>0.001286</td>\n",
       "    </tr>\n",
       "    <tr>\n",
       "      <th>55105</th>\n",
       "      <td>2010-02-22</td>\n",
       "      <td>C_20121221_125.0</td>\n",
       "      <td>1356123600</td>\n",
       "      <td>125.0</td>\n",
       "      <td>0.649360</td>\n",
       "      <td>-0.606197</td>\n",
       "      <td>5.132132</td>\n",
       "      <td>8.410</td>\n",
       "      <td>111.13</td>\n",
       "      <td>0.030916</td>\n",
       "      <td>...</td>\n",
       "      <td>0.001283</td>\n",
       "      <td>0.487712</td>\n",
       "      <td>0.503317</td>\n",
       "      <td>0.445800</td>\n",
       "      <td>0.465781</td>\n",
       "      <td>1</td>\n",
       "      <td>1</td>\n",
       "      <td>0</td>\n",
       "      <td>0</td>\n",
       "      <td>0.001053</td>\n",
       "    </tr>\n",
       "    <tr>\n",
       "      <th>58501</th>\n",
       "      <td>2010-02-22</td>\n",
       "      <td>C_20121221_150.0</td>\n",
       "      <td>1356123600</td>\n",
       "      <td>150.0</td>\n",
       "      <td>0.150238</td>\n",
       "      <td>-1.803569</td>\n",
       "      <td>5.132132</td>\n",
       "      <td>2.320</td>\n",
       "      <td>111.13</td>\n",
       "      <td>0.051724</td>\n",
       "      <td>...</td>\n",
       "      <td>0.005350</td>\n",
       "      <td>0.467894</td>\n",
       "      <td>0.514397</td>\n",
       "      <td>0.436691</td>\n",
       "      <td>0.441673</td>\n",
       "      <td>1</td>\n",
       "      <td>1</td>\n",
       "      <td>0</td>\n",
       "      <td>0</td>\n",
       "      <td>-0.000858</td>\n",
       "    </tr>\n",
       "    <tr>\n",
       "      <th>59175</th>\n",
       "      <td>2010-02-22</td>\n",
       "      <td>C_20121221_95.0</td>\n",
       "      <td>1356123600</td>\n",
       "      <td>95.0</td>\n",
       "      <td>1.346910</td>\n",
       "      <td>1.004803</td>\n",
       "      <td>5.132132</td>\n",
       "      <td>23.580</td>\n",
       "      <td>111.13</td>\n",
       "      <td>0.017812</td>\n",
       "      <td>...</td>\n",
       "      <td>0.000521</td>\n",
       "      <td>0.543284</td>\n",
       "      <td>0.495411</td>\n",
       "      <td>0.461606</td>\n",
       "      <td>0.502920</td>\n",
       "      <td>1</td>\n",
       "      <td>1</td>\n",
       "      <td>0</td>\n",
       "      <td>0</td>\n",
       "      <td>0.003534</td>\n",
       "    </tr>\n",
       "  </tbody>\n",
       "</table>\n",
       "<p>301080 rows × 45 columns</p>\n",
       "</div>"
      ],
      "text/plain": [
       "       QUOTE_DATE         option_id  EXPIRE_UNIX  STRIKE        IV     DELTA  \\\n",
       "33736  2011-12-14  C_20120120_112.0   1327093200   112.0  2.342395  1.700603   \n",
       "33794  2011-12-14  C_20120120_113.0   1327093200   113.0  2.285448  1.553686   \n",
       "36610  2011-12-14  C_20120217_108.0   1329512400   108.0  3.069698  1.644867   \n",
       "36631  2011-12-14  C_20120217_110.0   1329512400   110.0  2.938661  1.469543   \n",
       "36648  2011-12-14  C_20120217_111.0   1329512400   111.0  2.798954  1.380520   \n",
       "...           ...               ...          ...     ...       ...       ...   \n",
       "54414  2010-02-22  C_20121221_115.0   1356123600   115.0  0.871827 -0.051201   \n",
       "54692  2010-02-22  C_20121221_120.0   1356123600   120.0  0.780397 -0.327466   \n",
       "55105  2010-02-22  C_20121221_125.0   1356123600   125.0  0.649360 -0.606197   \n",
       "58501  2010-02-22  C_20121221_150.0   1356123600   150.0  0.150238 -1.803569   \n",
       "59175  2010-02-22   C_20121221_95.0   1356123600    95.0  1.346910  1.004803   \n",
       "\n",
       "            DTE     MID  UNDERLYING_LAST  BidAskSpread  ...    weight  \\\n",
       "33736 -0.637479  10.330           121.74      0.011617  ...  0.082371   \n",
       "33794 -0.637479   9.500           121.74      0.014737  ...  0.071411   \n",
       "36610 -0.475281  14.880           121.74      0.013441  ...  0.052287   \n",
       "36631 -0.475281  13.225           121.74      0.015879  ...  0.051606   \n",
       "36648 -0.475281  12.375           121.74      0.012121  ...  0.039855   \n",
       "...         ...     ...              ...           ...  ...       ...   \n",
       "54414  5.132132  12.485           111.13      0.021626  ...  0.003001   \n",
       "54692  5.132132  10.370           111.13      0.023144  ...  0.002931   \n",
       "55105  5.132132   8.410           111.13      0.030916  ...  0.001283   \n",
       "58501  5.132132   2.320           111.13      0.051724  ...  0.005350   \n",
       "59175  5.132132  23.580           111.13      0.017812  ...  0.000521   \n",
       "\n",
       "       nn2_binary  nn3_binary  nn4_binary  nn5_binary  xgb2_binary  \\\n",
       "33736    0.502228    0.508230    0.422476    0.423597            0   \n",
       "33794    0.498240    0.501703    0.421213    0.422817            0   \n",
       "36610    0.500715    0.509061    0.422411    0.394646            0   \n",
       "36631    0.495837    0.501476    0.421052    0.396024            0   \n",
       "36648    0.493261    0.497578    0.420362    0.399774            0   \n",
       "...           ...         ...         ...         ...          ...   \n",
       "54414    0.506217    0.500566    0.450281    0.479165            1   \n",
       "54692    0.493099    0.501914    0.448050    0.472411            1   \n",
       "55105    0.487712    0.503317    0.445800    0.465781            1   \n",
       "58501    0.467894    0.514397    0.436691    0.441673            1   \n",
       "59175    0.543284    0.495411    0.461606    0.502920            1   \n",
       "\n",
       "       xgb3_binary  xgb4_binary  xgb5_binary  nn5_logret  \n",
       "33736            0            0            0   -0.004951  \n",
       "33794            0            0            0   -0.005970  \n",
       "36610            0            0            0   -0.013124  \n",
       "36631            0            0            0   -0.013474  \n",
       "36648            0            0            0   -0.013332  \n",
       "...            ...          ...          ...         ...  \n",
       "54414            1            0            0    0.001812  \n",
       "54692            1            0            0    0.001286  \n",
       "55105            1            0            0    0.001053  \n",
       "58501            1            0            0   -0.000858  \n",
       "59175            1            0            0    0.003534  \n",
       "\n",
       "[301080 rows x 45 columns]"
      ]
     },
     "execution_count": 84,
     "metadata": {},
     "output_type": "execute_result"
    }
   ],
   "source": [
    "train"
   ]
  },
  {
   "cell_type": "code",
   "execution_count": null,
   "metadata": {},
   "outputs": [],
   "source": []
  },
  {
   "cell_type": "code",
   "execution_count": 85,
   "metadata": {},
   "outputs": [],
   "source": [
    "train.to_pickle('our_approach_dataframes/train.pkl')\n",
    "test.to_pickle('our_approach_dataframes/test.pkl')\n",
    "valid.to_pickle('our_approach_dataframes/valid.pkl')"
   ]
  }
 ],
 "metadata": {
  "kernelspec": {
   "display_name": "stable",
   "language": "python",
   "name": "python3"
  },
  "language_info": {
   "codemirror_mode": {
    "name": "ipython",
    "version": 3
   },
   "file_extension": ".py",
   "mimetype": "text/x-python",
   "name": "python",
   "nbconvert_exporter": "python",
   "pygments_lexer": "ipython3",
   "version": "3.11.7"
  }
 },
 "nbformat": 4,
 "nbformat_minor": 2
}
